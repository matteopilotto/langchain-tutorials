{
 "cells": [
  {
   "cell_type": "code",
   "execution_count": 7,
   "metadata": {},
   "outputs": [],
   "source": [
    "import os\n",
    "from getpass import getpass\n",
    "\n",
    "os.environ[\"OPENAI_API_KEY\"] = getpass(\"OpenAI API Key: \")"
   ]
  },
  {
   "cell_type": "markdown",
   "metadata": {},
   "source": [
    "### Chat messages"
   ]
  },
  {
   "cell_type": "code",
   "execution_count": 4,
   "metadata": {},
   "outputs": [],
   "source": [
    "from langchain.chat_models import ChatOpenAI\n",
    "from langchain.schema import SystemMessage, AIMessage, HumanMessage\n",
    "\n",
    "chat = ChatOpenAI(\n",
    "    model_name=\"gpt-3.5-turbo\",\n",
    "    temperature=0.7,\n",
    "    openai_api_key=os.environ[\"OPENAI_API_KEY\"]\n",
    ")"
   ]
  },
  {
   "cell_type": "code",
   "execution_count": 10,
   "metadata": {},
   "outputs": [
    {
     "data": {
      "text/plain": [
       "'You could try a caprese salad with fresh mozzarella and basil!'"
      ]
     },
     "execution_count": 10,
     "metadata": {},
     "output_type": "execute_result"
    }
   ],
   "source": [
    "response = chat([\n",
    "    SystemMessage(content=\"You are a nice AI bot that helps a user to figure out what to eat in one short sentence.\"),\n",
    "    HumanMessage(content=\"I like tomatoes, what should I eat?\")\n",
    "])\n",
    "\n",
    "response.content.strip()"
   ]
  },
  {
   "cell_type": "code",
   "execution_count": 12,
   "metadata": {},
   "outputs": [
    {
     "name": "stdout",
     "output_type": "stream",
     "text": [
      "While in Nice, you can also explore the old town, visit the museums, and enjoy the delicious Provencal cuisine.\n"
     ]
    }
   ],
   "source": [
    "history = [\n",
    "    SystemMessage(content=\"You are a nice AI bot that helps a user figure out where to travel in one short sentence.\"),\n",
    "    HumanMessage(content=\"I like the beaches where should I go?\"),\n",
    "    AIMessage(content=\"You should go to Nice, France.\"),\n",
    "    HumanMessage(content=\"What else should I do when I'm there?\")\n",
    "]\n",
    "\n",
    "response = chat(history)\n",
    "print(response.content.strip())"
   ]
  },
  {
   "cell_type": "markdown",
   "metadata": {},
   "source": [
    "### Documents"
   ]
  },
  {
   "cell_type": "code",
   "execution_count": 17,
   "metadata": {},
   "outputs": [
    {
     "data": {
      "text/plain": [
       "Document(page_content='this the content of my document.', metadata={'id': 1234, 'source': 'www.wikipedia.com', 'create_time': 20230402})"
      ]
     },
     "execution_count": 17,
     "metadata": {},
     "output_type": "execute_result"
    }
   ],
   "source": [
    "from langchain.schema import Document\n",
    "\n",
    "my_document = Document(\n",
    "    page_content=\"this the content of my document.\",\n",
    "    metadata={\n",
    "        \"id\": 1234,\n",
    "        \"source\": \"www.wikipedia.com\",\n",
    "        \"create_time\": 20230402\n",
    "    }\n",
    ")\n",
    "\n",
    "my_document"
   ]
  },
  {
   "cell_type": "markdown",
   "metadata": {},
   "source": [
    "### Language model"
   ]
  },
  {
   "cell_type": "code",
   "execution_count": 21,
   "metadata": {},
   "outputs": [],
   "source": [
    "from langchain.llms import OpenAI\n",
    "\n",
    "llm = OpenAI(\n",
    "    model_name=\"text-davinci-003\",\n",
    "    temperature=0.7,\n",
    "    openai_api_key=os.environ[\"OPENAI_API_KEY\"]\n",
    ")"
   ]
  },
  {
   "cell_type": "code",
   "execution_count": 24,
   "metadata": {},
   "outputs": [
    {
     "name": "stdout",
     "output_type": "stream",
     "text": [
      "Saturday\n"
     ]
    }
   ],
   "source": [
    "query = \"What day comes after Friday?\"\n",
    "response = llm(query)\n",
    "\n",
    "print(response.strip())"
   ]
  },
  {
   "cell_type": "markdown",
   "metadata": {},
   "source": [
    "### Chat Models"
   ]
  },
  {
   "cell_type": "code",
   "execution_count": 30,
   "metadata": {},
   "outputs": [],
   "source": [
    "from langchain.chat_models import ChatOpenAI\n",
    "from langchain.schema import SystemMessage, AIMessage, HumanMessage\n",
    "\n",
    "chat_llm = ChatOpenAI(\n",
    "    model_name=\"gpt-3.5-turbo\",\n",
    "    temperature=1.,\n",
    "    openai_api_key=os.environ[\"OPENAI_API_KEY\"]\n",
    ")"
   ]
  },
  {
   "cell_type": "code",
   "execution_count": 33,
   "metadata": {},
   "outputs": [
    {
     "name": "stdout",
     "output_type": "stream",
     "text": [
      "Why don't you try walking there? It's great exercise and you'll get to see a lot of interesting sights along the way.\n"
     ]
    }
   ],
   "source": [
    "history = [\n",
    "    SystemMessage(content=\"You are an unhelpful AI bot that makes a joke at whatever the user says.\"),\n",
    "    HumanMessage(content=\"I would like to go to New York, how should I do this?\")\n",
    "]\n",
    "\n",
    "response = chat_llm(history)\n",
    "print(response.content.strip())"
   ]
  },
  {
   "cell_type": "code",
   "execution_count": 32,
   "metadata": {},
   "outputs": [
    {
     "data": {
      "text/plain": [
       "AIMessage(content=\"Walk, duh! Just put on some comfortable shoes and start walking to New York. You'll get there eventually... or not.\", additional_kwargs={})"
      ]
     },
     "execution_count": 32,
     "metadata": {},
     "output_type": "execute_result"
    }
   ],
   "source": [
    "response"
   ]
  },
  {
   "cell_type": "markdown",
   "metadata": {},
   "source": [
    "### Embedding Models"
   ]
  },
  {
   "cell_type": "code",
   "execution_count": 36,
   "metadata": {},
   "outputs": [],
   "source": [
    "from langchain.embeddings import OpenAIEmbeddings\n",
    "\n",
    "embed_model = OpenAIEmbeddings(model=\"text-embedding-ada-002\")"
   ]
  },
  {
   "cell_type": "code",
   "execution_count": 37,
   "metadata": {},
   "outputs": [],
   "source": [
    "text = \"Hi! It's time for the beach.\"\n",
    "\n",
    "text_embed = embed_model.embed_query(text)"
   ]
  },
  {
   "cell_type": "code",
   "execution_count": 39,
   "metadata": {},
   "outputs": [
    {
     "data": {
      "text/plain": [
       "1536"
      ]
     },
     "execution_count": 39,
     "metadata": {},
     "output_type": "execute_result"
    }
   ],
   "source": [
    "len(text_embed)"
   ]
  },
  {
   "cell_type": "markdown",
   "metadata": {},
   "source": [
    "### Prompts"
   ]
  },
  {
   "cell_type": "code",
   "execution_count": 45,
   "metadata": {},
   "outputs": [
    {
     "name": "stdout",
     "output_type": "stream",
     "text": [
      "That statement is incorrect; tomorrow is Tuesday, not Wednesday.\n"
     ]
    }
   ],
   "source": [
    "from langchain.llms import OpenAI\n",
    "\n",
    "llm = OpenAI(\n",
    "    model_name=\"text-davinci-003\",\n",
    "    temperature=0.7,\n",
    "    openai_api_key=os.environ[\"OPENAI_API_KEY\"]\n",
    ")\n",
    "\n",
    "prompt = \"\"\"\n",
    "Today is Monday, tomorrow is Wednesday.\n",
    "What is wrong with that statement?\n",
    "\"\"\".strip()\n",
    "\n",
    "response = llm(prompt)\n",
    "print(response.strip())"
   ]
  },
  {
   "cell_type": "code",
   "execution_count": 44,
   "metadata": {},
   "outputs": [
    {
     "data": {
      "text/plain": [
       "'\\n\\nTuesday is missing. The correct statement would be: Today is Monday, tomorrow is Tuesday, and Wednesday.'"
      ]
     },
     "execution_count": 44,
     "metadata": {},
     "output_type": "execute_result"
    }
   ],
   "source": [
    "response"
   ]
  },
  {
   "cell_type": "markdown",
   "metadata": {},
   "source": [
    "### Prompt Template"
   ]
  },
  {
   "cell_type": "code",
   "execution_count": 49,
   "metadata": {},
   "outputs": [
    {
     "name": "stdout",
     "output_type": "stream",
     "text": [
      "I really want to travel to Rome. What should I do there?\n",
      "Response in one short sentence.\n",
      "Visit the Colosseum, the Pantheon, and the Trevi Fountain.\n"
     ]
    }
   ],
   "source": [
    "from langchain.llms import OpenAI\n",
    "from langchain import PromptTemplate\n",
    "\n",
    "llm = OpenAI(\n",
    "    model_name=\"text-davinci-003\",\n",
    "    temperature=.7,\n",
    "    openai_api_key=os.environ[\"OPENAI_API_KEY\"]\n",
    ")\n",
    "\n",
    "template = \"\"\"\n",
    "I really want to travel to {location}. What should I do there?\n",
    "Response in one short sentence.\n",
    "\"\"\".strip()\n",
    "\n",
    "prompt = PromptTemplate(\n",
    "    template=template,\n",
    "    input_variables=[\"location\"]\n",
    ")\n",
    "\n",
    "final_prompt = prompt.format(location=\"Rome\")\n",
    "print(final_prompt)\n",
    "\n",
    "response = llm(final_prompt)\n",
    "print(response.strip())"
   ]
  },
  {
   "cell_type": "markdown",
   "metadata": {},
   "source": [
    "### Example Selectors"
   ]
  },
  {
   "cell_type": "code",
   "execution_count": 3,
   "metadata": {},
   "outputs": [],
   "source": [
    "from langchain.prompts.example_selector import SemanticSimilarityExampleSelector"
   ]
  },
  {
   "cell_type": "code",
   "execution_count": 22,
   "metadata": {},
   "outputs": [],
   "source": [
    "from langchain.prompts import PromptTemplate, FewShotPromptTemplate\n",
    "from langchain.prompts.example_selector import SemanticSimilarityExampleSelector\n",
    "from langchain.vectorstores import FAISS\n",
    "from langchain.embeddings import OpenAIEmbeddings\n",
    "from langchain.llms import OpenAI\n",
    "\n",
    "llm = OpenAI(\n",
    "    model_name=\"text-davinci-003\",\n",
    "    openai_api_key=os.environ[\"OPENAI_API_KEY\"]\n",
    ")\n",
    "\n",
    "embed_model = OpenAIEmbeddings(\n",
    "    model=\"text-embedding-ada-002\",\n",
    "    openai_api_key=os.environ[\"OPENAI_API_KEY\"]\n",
    ")\n",
    "\n",
    "example_template = \"\"\"\n",
    "Input: {input}\n",
    "Output: {output}\n",
    "\"\"\".strip()\n",
    "\n",
    "example_prompt = PromptTemplate(\n",
    "    template=example_template,\n",
    "    input_variables=[\"input\", \"output\"]\n",
    ")\n",
    "\n",
    "examples = [\n",
    "    {\"input\": \"pirate\", \"output\": \"ship\"},\n",
    "    {\"input\": \"pilot\", \"output\": \"plane\"},\n",
    "    {\"input\": \"driver\", \"output\": \"car\"},\n",
    "    {\"input\": \"tree\", \"output\": \"ground\"},\n",
    "    {\"input\": \"bird\", \"output\": \"nest\"}\n",
    "]"
   ]
  },
  {
   "cell_type": "code",
   "execution_count": 23,
   "metadata": {},
   "outputs": [],
   "source": [
    "example_selector = SemanticSimilarityExampleSelector.from_examples(\n",
    "    examples=examples,\n",
    "    embeddings=embed_model,\n",
    "    vectorstore_cls=FAISS,\n",
    "    k=2\n",
    ")"
   ]
  },
  {
   "cell_type": "code",
   "execution_count": 24,
   "metadata": {},
   "outputs": [],
   "source": [
    "similar_prompt = FewShotPromptTemplate(\n",
    "    example_selector=example_selector,\n",
    "    example_prompt=example_prompt,\n",
    "    prefix=\"Give the location an item is usually found in.\",\n",
    "    suffix=\"Input: {noun}\\nOutput: \",\n",
    "    input_variables=[\"noun\"]\n",
    ")"
   ]
  },
  {
   "cell_type": "code",
   "execution_count": 25,
   "metadata": {},
   "outputs": [
    {
     "name": "stdout",
     "output_type": "stream",
     "text": [
      "Give the location an item is usually found in.\n",
      "\n",
      "Input: driver\n",
      "Output: car\n",
      "\n",
      "Input: pilot\n",
      "Output: plane\n",
      "\n",
      "Input: student\n",
      "Output: \n"
     ]
    }
   ],
   "source": [
    "my_noun = \"student\"\n",
    "\n",
    "print(similar_prompt.format(noun=my_noun))"
   ]
  },
  {
   "cell_type": "code",
   "execution_count": 26,
   "metadata": {},
   "outputs": [
    {
     "name": "stdout",
     "output_type": "stream",
     "text": [
      "classroom\n"
     ]
    }
   ],
   "source": [
    "response = llm(similar_prompt.format(noun=my_noun))\n",
    "print(response.strip())"
   ]
  },
  {
   "cell_type": "markdown",
   "metadata": {},
   "source": [
    "### Output Parsers"
   ]
  },
  {
   "cell_type": "code",
   "execution_count": 29,
   "metadata": {},
   "outputs": [
    {
     "name": "stdout",
     "output_type": "stream",
     "text": [
      "The output should be a markdown code snippet formatted in the following schema:\n",
      "\n",
      "```json\n",
      "{\n",
      "\t\"bad_string\": string  // This is a poorly formatted user input string.\n",
      "\t\"good_string\": string  // This is your response, a reformatted response.\n",
      "}\n",
      "```\n"
     ]
    }
   ],
   "source": [
    "from langchain.output_parsers import StructuredOutputParser, ResponseSchema\n",
    "from langchain.prompts import ChatPromptTemplate, HumanMessagePromptTemplate\n",
    "from langchain.llms import OpenAI\n",
    "\n",
    "llm = OpenAI(\n",
    "    model_name=\"text-davinci-003\",\n",
    "    openai_api_key=os.environ[\"OPENAI_API_KEY\"]\n",
    ")\n",
    "\n",
    "response_schemas = [\n",
    "    ResponseSchema(name=\"bad_string\", description=\"This is a poorly formatted user input string.\"),\n",
    "    ResponseSchema(name=\"good_string\", description=\"This is your response, a reformatted response.\")\n",
    "]\n",
    "\n",
    "output_parser = StructuredOutputParser.from_response_schemas(response_schemas)\n",
    "format_instructions = output_parser.get_format_instructions()\n",
    "print(format_instructions)"
   ]
  },
  {
   "cell_type": "code",
   "execution_count": 30,
   "metadata": {},
   "outputs": [
    {
     "name": "stdout",
     "output_type": "stream",
     "text": [
      "You will be given a poorly formatted string from a user.\n",
      "Reformat it and make sure that all the words are spelled properly.\n",
      "\n",
      "The output should be a markdown code snippet formatted in the following schema:\n",
      "\n",
      "```json\n",
      "{\n",
      "\t\"bad_string\": string  // This is a poorly formatted user input string.\n",
      "\t\"good_string\": string  // This is your response, a reformatted response.\n",
      "}\n",
      "```\n",
      "\n",
      "USER INPUT:\n",
      "welcom to califonya!\n",
      "\n",
      "YOUR RESPONSE:\n"
     ]
    }
   ],
   "source": [
    "template = \"\"\"\n",
    "You will be given a poorly formatted string from a user.\n",
    "Reformat it and make sure that all the words are spelled properly.\n",
    "\n",
    "{format_instructions}\n",
    "\n",
    "USER INPUT:\n",
    "{user_input}\n",
    "\n",
    "YOUR RESPONSE:\n",
    "\"\"\".strip()\n",
    "\n",
    "prompt = PromptTemplate(\n",
    "    template=template,\n",
    "    input_variables=[\"user_input\"],\n",
    "    partial_variables={\"format_instructions\": format_instructions}\n",
    ")\n",
    "\n",
    "user_input = \"welcom to califonya!\"\n",
    "final_prompt = prompt.format(user_input=user_input)\n",
    "\n",
    "print(final_prompt)"
   ]
  },
  {
   "cell_type": "code",
   "execution_count": 31,
   "metadata": {},
   "outputs": [
    {
     "name": "stdout",
     "output_type": "stream",
     "text": [
      "```json\n",
      "{\n",
      "\t\"bad_string\": \"welcom to califonya!\",\n",
      "\t\"good_string\": \"Welcome to California!\"\n",
      "}\n",
      "```\n"
     ]
    }
   ],
   "source": [
    "response = llm(final_prompt)\n",
    "print(response.strip())"
   ]
  },
  {
   "cell_type": "code",
   "execution_count": 32,
   "metadata": {},
   "outputs": [
    {
     "name": "stdout",
     "output_type": "stream",
     "text": [
      "{'bad_string': 'welcom to califonya!', 'good_string': 'Welcome to California!'}\n"
     ]
    }
   ],
   "source": [
    "print(output_parser.parse(response.strip()))"
   ]
  },
  {
   "cell_type": "markdown",
   "metadata": {},
   "source": [
    "### Document Loaders"
   ]
  },
  {
   "cell_type": "code",
   "execution_count": 33,
   "metadata": {},
   "outputs": [],
   "source": [
    "from langchain.document_loaders import HNLoader\n",
    "\n",
    "loader = HNLoader(\"https://news.ycombinator.com/item?id=34422627\")\n",
    "data = loader.load()"
   ]
  },
  {
   "cell_type": "code",
   "execution_count": 39,
   "metadata": {},
   "outputs": [
    {
     "name": "stdout",
     "output_type": "stream",
     "text": [
      "Ozzie_osman 75 days ago  \n",
      "             | prev | next [–] \n",
      "\n",
      "LangChain is awesome. For people not sure what it's doing, large language models (LLMs) are very powerful but they're very general. As a common example for this limitation, imagine you want your LLM to answer questions over a large corpus.You can't pass the entire corpus into the prompt. So you might:\n",
      "- preprocess the corpus by iterating over documents, splitting them into chunks, and summarizing them\n",
      "- embed those chunks/summaries in some vector space\n",
      "- when you get a question, search your vector space for similar chunks\n",
      "- pass those chunks to the LLM in the prompt, along with your questionThis ends up being a very common pattern, where you need to do some preprocessing of some information, some real-time collecting of pieces, and then an interaction with the LLM (in some cases, you might go back and forth with the LLM). For instance, code and semantic search follows a similar pattern (preprocess -> embed -> nearest-neighbors at query time -> LLM).Langchain provides a great abstraction for composing these pieces. IMO, this sort of \"prompt plumbing\" is far more important than all the slick (but somewhat gimicky) \"prompt engineering\" examples we see.I suspect this will get more important as the LLMs become more powerful and more integrated, requiring more data to be provided at prompt time.\n"
     ]
    }
   ],
   "source": [
    "print(data[1].page_content)"
   ]
  },
  {
   "cell_type": "code",
   "execution_count": 40,
   "metadata": {},
   "outputs": [
    {
     "name": "stdout",
     "output_type": "stream",
     "text": [
      "76\n"
     ]
    }
   ],
   "source": [
    "print(len(data))"
   ]
  },
  {
   "cell_type": "markdown",
   "metadata": {},
   "source": [
    "### Text Splitters"
   ]
  },
  {
   "cell_type": "code",
   "execution_count": 45,
   "metadata": {},
   "outputs": [],
   "source": [
    "from langchain.text_splitter import RecursiveCharacterTextSplitter\n",
    "\n",
    "with open(\"data\\PaulGrahamEssays\\worked.txt\", \"r\") as f:\n",
    "    essay = f.read()"
   ]
  },
  {
   "cell_type": "code",
   "execution_count": 46,
   "metadata": {},
   "outputs": [
    {
     "data": {
      "text/plain": [
       "'February 2021Before college the two main things I worked on, outside of school,\\nwere writing and programming. I didn\\'t write essays. I wrote what\\nbeginning writers were supposed to write then, and probably still\\nare: short stories. My stories were awful. They had hardly any plot,\\njust characters with strong feelings, which I imagined made them\\ndeep.The first programs I tried writing were on the IBM 1401 that our\\nschool district used for what was then called \"data processing.\"\\nThis was in 9th grade, so I was 13 or 14. The school district\\'s\\n1401 happened to be in the basement of our junior high school, and\\nmy friend Rich Draves and I got permission to use it. It was like\\na mini Bond villain\\'s lair down there, with all these alien-looking\\nmachines \\x97 CPU, disk drives, printer, card reader \\x97 sitting up\\non a raised floor under bright fluorescent lights.The language we used was an early version of Fortran. You had to\\ntype programs on punch cards, then stack them in the card reader\\nand press a button to load the program into memory and run it. The\\nresult would ordinarily be to print something on the spectacularly\\nloud printer.I was puzzled by the 1401. I couldn\\'t figure out what to do with\\nit. And in retrospect there\\'s not much I could have done with it.\\nThe only form of input to programs was data stored on punched cards,\\nand I didn\\'t have any data stored on punched cards. The only other\\noption was to do things that didn\\'t rely on any input, like calculate\\napproximations of pi, but I didn\\'t know enough math to do anything\\ninteresting of that type. So I\\'m not surprised I can\\'t remember any\\nprograms I wrote, because they can\\'t have done much. My clearest\\nmemory is of the moment I learned it was possible for programs not\\nto terminate, when one of mine didn\\'t. On a machine without\\ntime-sharing, this was a social as well as a technical error, as\\nthe data center manager\\'s expression made clear.With microcomputers, everything changed. Now you could have a\\ncomputer sitting right in front of you, on a desk, that could respond\\nto your keystrokes as it was running instead of just churning through\\na stack of punch cards and then stopping. \\n[1]The first of my friends to get a microcomputer built it himself.\\nIt was sold as a kit by Heathkit. I remember vividly how impressed\\nand envious I felt watching him sitting in front of it, typing\\nprograms right into the computer.Computers were expensive in those days and it took me years of\\nnagging before I convinced my father to buy one, a TRS-80, in about\\n1980. The gold standard then was the Apple II, but a TRS-80 was\\ngood enough. This was when I really started programming. I wrote\\nsimple games, a program to predict how high my model rockets would\\nfly, and a word processor that my father used to write at least one\\nbook. There was only room in memory for about 2 pages of text, so\\nhe\\'d write 2 pages at a time and then print them out, but it was a\\nlot better than a typewriter.Though I liked programming, I didn\\'t plan to study it in college.\\nIn college I was going to study philosophy, which sounded much more\\npowerful. It seemed, to my naive high school self, to be the study\\nof the ultimate truths, compared to which the things studied in\\nother fields would be mere domain knowledge. What I discovered when\\nI got to college was that the other fields took up so much of the\\nspace of ideas that there wasn\\'t much left for these supposed\\nultimate truths. All that seemed left for philosophy were edge cases\\nthat people in other fields felt could safely be ignored.I couldn\\'t have put this into words when I was 18. All I knew at\\nthe time was that I kept taking philosophy courses and they kept\\nbeing boring. So I decided to switch to AI.AI was in the air in the mid 1980s, but there were two things\\nespecially that made me want to work on it: a novel by Heinlein\\ncalled The Moon is a Harsh Mistress, which featured an intelligent\\ncomputer called Mike, and a PBS documentary that showed Terry\\nWinograd using SHRDLU. I haven\\'t tried rereading The Moon is a Harsh\\nMistress, so I don\\'t know how well it has aged, but when I read it\\nI was drawn entirely into its world. It seemed only a matter of\\ntime before we\\'d have Mike, and when I saw Winograd using SHRDLU,\\nit seemed like that time would be a few years at most. All you had\\nto do was teach SHRDLU more words.There weren\\'t any classes in AI at Cornell then, not even graduate\\nclasses, so I started trying to teach myself. Which meant learning\\nLisp, since in those days Lisp was regarded as the language of AI.\\nThe commonly used programming languages then were pretty primitive,\\nand programmers\\' ideas correspondingly so. The default language at\\nCornell was a Pascal-like language called PL/I, and the situation\\nwas similar elsewhere. Learning Lisp expanded my concept of a program\\nso fast that it was years before I started to have a sense of where\\nthe new limits were. This was more like it; this was what I had\\nexpected college to do. It wasn\\'t happening in a class, like it was\\nsupposed to, but that was ok. For the next couple years I was on a\\nroll. I knew what I was going to do.For my undergraduate thesis, I reverse-engineered SHRDLU. My God\\ndid I love working on that program. It was a pleasing bit of code,\\nbut what made it even more exciting was my belief \\x97 hard to imagine\\nnow, but not unique in 1985 \\x97 that it was already climbing the\\nlower slopes of intelligence.I had gotten into a program at Cornell that didn\\'t make you choose\\na major. You could take whatever classes you liked, and choose\\nwhatever you liked to put on your degree. I of course chose \"Artificial\\nIntelligence.\" When I got the actual physical diploma, I was dismayed\\nto find that the quotes had been included, which made them read as\\nscare-quotes. At the time this bothered me, but now it seems amusingly\\naccurate, for reasons I was about to discover.I applied to 3 grad schools: MIT and Yale, which were renowned for\\nAI at the time, and Harvard, which I\\'d visited because Rich Draves\\nwent there, and was also home to Bill Woods, who\\'d invented the\\ntype of parser I used in my SHRDLU clone. Only Harvard accepted me,\\nso that was where I went.I don\\'t remember the moment it happened, or if there even was a\\nspecific moment, but during the first year of grad school I realized\\nthat AI, as practiced at the time, was a hoax. By which I mean the\\nsort of AI in which a program that\\'s told \"the dog is sitting on\\nthe chair\" translates this into some formal representation and adds\\nit to the list of things it knows.What these programs really showed was that there\\'s a subset of\\nnatural language that\\'s a formal language. But a very proper subset.\\nIt was clear that there was an unbridgeable gap between what they\\ncould do and actually understanding natural language. It was not,\\nin fact, simply a matter of teaching SHRDLU more words. That whole\\nway of doing AI, with explicit data structures representing concepts,\\nwas not going to work. Its brokenness did, as so often happens,\\ngenerate a lot of opportunities to write papers about various\\nband-aids that could be applied to it, but it was never going to\\nget us Mike.So I looked around to see what I could salvage from the wreckage\\nof my plans, and there was Lisp. I knew from experience that Lisp\\nwas interesting for its own sake and not just for its association\\nwith AI, even though that was the main reason people cared about\\nit at the time. So I decided to focus on Lisp. In fact, I decided\\nto write a book about Lisp hacking. It\\'s scary to think how little\\nI knew about Lisp hacking when I started writing that book. But\\nthere\\'s nothing like writing a book about something to help you\\nlearn it. The book, On Lisp, wasn\\'t published till 1993, but I wrote\\nmuch of it in grad school.Computer Science is an uneasy alliance between two halves, theory\\nand systems. The theory people prove things, and the systems people\\nbuild things. I wanted to build things. I had plenty of respect for\\ntheory \\x97 indeed, a sneaking suspicion that it was the more admirable\\nof the two halves \\x97 but building things seemed so much more exciting.The problem with systems work, though, was that it didn\\'t last.\\nAny program you wrote today, no matter how good, would be obsolete\\nin a couple decades at best. People might mention your software in\\nfootnotes, but no one would actually use it. And indeed, it would\\nseem very feeble work. Only people with a sense of the history of\\nthe field would even realize that, in its time, it had been good.There were some surplus Xerox Dandelions floating around the computer\\nlab at one point. Anyone who wanted one to play around with could\\nhave one. I was briefly tempted, but they were so slow by present\\nstandards; what was the point? No one else wanted one either, so\\noff they went. That was what happened to systems work.I wanted not just to build things, but to build things that would\\nlast.In this dissatisfied state I went in 1988 to visit Rich Draves at\\nCMU, where he was in grad school. One day I went to visit the\\nCarnegie Institute, where I\\'d spent a lot of time as a kid. While\\nlooking at a painting there I realized something that might seem\\nobvious, but was a big surprise to me. There, right on the wall,\\nwas something you could make that would last. Paintings didn\\'t\\nbecome obsolete. Some of the best ones were hundreds of years old.And moreover this was something you could make a living doing. Not\\nas easily as you could by writing software, of course, but I thought\\nif you were really industrious and lived really cheaply, it had to\\nbe possible to make enough to survive. And as an artist you could\\nbe truly independent. You wouldn\\'t have a boss, or even need to get\\nresearch funding.I had always liked looking at paintings. Could I make them? I had\\nno idea. I\\'d never imagined it was even possible. I knew intellectually\\nthat people made art \\x97 that it didn\\'t just appear spontaneously\\n\\x97 but it was as if the people who made it were a different species.\\nThey either lived long ago or were mysterious geniuses doing strange\\nthings in profiles in Life magazine. The idea of actually being\\nable to make art, to put that verb before that noun, seemed almost\\nmiraculous.That fall I started taking art classes at Harvard. Grad students\\ncould take classes in any department, and my advisor, Tom Cheatham,\\nwas very easy going. If he even knew about the strange classes I\\nwas taking, he never said anything.So now I was in a PhD program in computer science, yet planning to\\nbe an artist, yet also genuinely in love with Lisp hacking and\\nworking away at On Lisp. In other words, like many a grad student,\\nI was working energetically on multiple projects that were not my\\nthesis.I didn\\'t see a way out of this situation. I didn\\'t want to drop out\\nof grad school, but how else was I going to get out? I remember\\nwhen my friend Robert Morris got kicked out of Cornell for writing\\nthe internet worm of 1988, I was envious that he\\'d found such a\\nspectacular way to get out of grad school.Then one day in April 1990 a crack appeared in the wall. I ran into\\nprofessor Cheatham and he asked if I was far enough along to graduate\\nthat June. I didn\\'t have a word of my dissertation written, but in\\nwhat must have been the quickest bit of thinking in my life, I\\ndecided to take a shot at writing one in the 5 weeks or so that\\nremained before the deadline, reusing parts of On Lisp where I\\ncould, and I was able to respond, with no perceptible delay \"Yes,\\nI think so. I\\'ll give you something to read in a few days.\"I picked applications of continuations as the topic. In retrospect\\nI should have written about macros and embedded languages. There\\'s\\na whole world there that\\'s barely been explored. But all I wanted\\nwas to get out of grad school, and my rapidly written dissertation\\nsufficed, just barely.Meanwhile I was applying to art schools. I applied to two: RISD in\\nthe US, and the Accademia di Belli Arti in Florence, which, because\\nit was the oldest art school, I imagined would be good. RISD accepted\\nme, and I never heard back from the Accademia, so off to Providence\\nI went.I\\'d applied for the BFA program at RISD, which meant in effect that\\nI had to go to college again. This was not as strange as it sounds,\\nbecause I was only 25, and art schools are full of people of different\\nages. RISD counted me as a transfer sophomore and said I had to do\\nthe foundation that summer. The foundation means the classes that\\neveryone has to take in fundamental subjects like drawing, color,\\nand design.Toward the end of the summer I got a big surprise: a letter from\\nthe Accademia, which had been delayed because they\\'d sent it to\\nCambridge England instead of Cambridge Massachusetts, inviting me\\nto take the entrance exam in Florence that fall. This was now only\\nweeks away. My nice landlady let me leave my stuff in her attic. I\\nhad some money saved from consulting work I\\'d done in grad school;\\nthere was probably enough to last a year if I lived cheaply. Now\\nall I had to do was learn Italian.Only stranieri (foreigners) had to take this entrance exam. In\\nretrospect it may well have been a way of excluding them, because\\nthere were so many stranieri attracted by the idea of studying\\nart in Florence that the Italian students would otherwise have been\\noutnumbered. I was in decent shape at painting and drawing from the\\nRISD foundation that summer, but I still don\\'t know how I managed\\nto pass the written exam. I remember that I answered the essay\\nquestion by writing about Cezanne, and that I cranked up the\\nintellectual level as high as I could to make the most of my limited\\nvocabulary. \\n[2]I\\'m only up to age 25 and already there are such conspicuous patterns.\\nHere I was, yet again about to attend some august institution in\\nthe hopes of learning about some prestigious subject, and yet again\\nabout to be disappointed. The students and faculty in the painting\\ndepartment at the Accademia were the nicest people you could imagine,\\nbut they had long since arrived at an arrangement whereby the\\nstudents wouldn\\'t require the faculty to teach anything, and in\\nreturn the faculty wouldn\\'t require the students to learn anything.\\nAnd at the same time all involved would adhere outwardly to the\\nconventions of a 19th century atelier. We actually had one of those\\nlittle stoves, fed with kindling, that you see in 19th century\\nstudio paintings, and a nude model sitting as close to it as possible\\nwithout getting burned. Except hardly anyone else painted her besides\\nme. The rest of the students spent their time chatting or occasionally\\ntrying to imitate things they\\'d seen in American art magazines.Our model turned out to live just down the street from me. She made\\na living from a combination of modelling and making fakes for a\\nlocal antique dealer. She\\'d copy an obscure old painting out of a\\nbook, and then he\\'d take the copy and maltreat it to make it look\\nold. \\n[3]While I was a student at the Accademia I started painting still\\nlives in my bedroom at night. These paintings were tiny, because\\nthe room was, and because I painted them on leftover scraps of\\ncanvas, which was all I could afford at the time. Painting still\\nlives is different from painting people, because the subject, as\\nits name suggests, can\\'t move. People can\\'t sit for more than about\\n15 minutes at a time, and when they do they don\\'t sit very still.\\nSo the traditional m.o. for painting people is to know how to paint\\na generic person, which you then modify to match the specific person\\nyou\\'re painting. Whereas a still life you can, if you want, copy\\npixel by pixel from what you\\'re seeing. You don\\'t want to stop\\nthere, of course, or you get merely photographic accuracy, and what\\nmakes a still life interesting is that it\\'s been through a head.\\nYou want to emphasize the visual cues that tell you, for example,\\nthat the reason the color changes suddenly at a certain point is\\nthat it\\'s the edge of an object. By subtly emphasizing such things\\nyou can make paintings that are more realistic than photographs not\\njust in some metaphorical sense, but in the strict information-theoretic\\nsense. \\n[4]I liked painting still lives because I was curious about what I was\\nseeing. In everyday life, we aren\\'t consciously aware of much we\\'re\\nseeing. Most visual perception is handled by low-level processes\\nthat merely tell your brain \"that\\'s a water droplet\" without telling\\nyou details like where the lightest and darkest points are, or\\n\"that\\'s a bush\" without telling you the shape and position of every\\nleaf. This is a feature of brains, not a bug. In everyday life it\\nwould be distracting to notice every leaf on every bush. But when\\nyou have to paint something, you have to look more closely, and\\nwhen you do there\\'s a lot to see. You can still be noticing new\\nthings after days of trying to paint something people usually take\\nfor granted, just as you can  after\\ndays of trying to write an essay about something people usually\\ntake for granted.This is not the only way to paint. I\\'m not 100% sure it\\'s even a\\ngood way to paint. But it seemed a good enough bet to be worth\\ntrying.Our teacher, professor Ulivi, was a nice guy. He could see I worked\\nhard, and gave me a good grade, which he wrote down in a sort of\\npassport each student had. But the Accademia wasn\\'t teaching me\\nanything except Italian, and my money was running out, so at the\\nend of the first year I went back to the US.I wanted to go back to RISD, but I was now broke and RISD was very\\nexpensive, so I decided to get a job for a year and then return to\\nRISD the next fall. I got one at a company called Interleaf, which\\nmade software for creating documents. You mean like Microsoft Word?\\nExactly. That was how I learned that low end software tends to eat\\nhigh end software. But Interleaf still had a few years to live yet.\\n[5]Interleaf had done something pretty bold. Inspired by Emacs, they\\'d\\nadded a scripting language, and even made the scripting language a\\ndialect of Lisp. Now they wanted a Lisp hacker to write things in\\nit. This was the closest thing I\\'ve had to a normal job, and I\\nhereby apologize to my boss and coworkers, because I was a bad\\nemployee. Their Lisp was the thinnest icing on a giant C cake, and\\nsince I didn\\'t know C and didn\\'t want to learn it, I never understood\\nmost of the software. Plus I was terribly irresponsible. This was\\nback when a programming job meant showing up every day during certain\\nworking hours. That seemed unnatural to me, and on this point the\\nrest of the world is coming around to my way of thinking, but at\\nthe time it caused a lot of friction. Toward the end of the year I\\nspent much of my time surreptitiously working on On Lisp, which I\\nhad by this time gotten a contract to publish.The good part was that I got paid huge amounts of money, especially\\nby art student standards. In Florence, after paying my part of the\\nrent, my budget for everything else had been $7 a day. Now I was\\ngetting paid more than 4 times that every hour, even when I was\\njust sitting in a meeting. By living cheaply I not only managed to\\nsave enough to go back to RISD, but also paid off my college loans.I learned some useful things at Interleaf, though they were mostly\\nabout what not to do. I learned that it\\'s better for technology\\ncompanies to be run by product people than sales people (though\\nsales is a real skill and people who are good at it are really good\\nat it), that it leads to bugs when code is edited by too many people,\\nthat cheap office space is no bargain if it\\'s depressing, that\\nplanned meetings are inferior to corridor conversations, that big,\\nbureaucratic customers are a dangerous source of money, and that\\nthere\\'s not much overlap between conventional office hours and the\\noptimal time for hacking, or conventional offices and the optimal\\nplace for it.But the most important thing I learned, and which I used in both\\nViaweb and Y Combinator, is that the low end eats the high end:\\nthat it\\'s good to be the \"entry level\" option, even though that\\nwill be less prestigious, because if you\\'re not, someone else will\\nbe, and will squash you against the ceiling. Which in turn means\\nthat prestige is a danger sign.When I left to go back to RISD the next fall, I arranged to do\\nfreelance work for the group that did projects for customers, and\\nthis was how I survived for the next several years. When I came\\nback to visit for a project later on, someone told me about a new\\nthing called HTML, which was, as he described it, a derivative of\\nSGML. Markup language enthusiasts were an occupational hazard at\\nInterleaf and I ignored him, but this HTML thing later became a big\\npart of my life.In the fall of 1992 I moved back to Providence to continue at RISD.\\nThe foundation had merely been intro stuff, and the Accademia had\\nbeen a (very civilized) joke. Now I was going to see what real art\\nschool was like. But alas it was more like the Accademia than not.\\nBetter organized, certainly, and a lot more expensive, but it was\\nnow becoming clear that art school did not bear the same relationship\\nto art that medical school bore to medicine. At least not the\\npainting department. The textile department, which my next door\\nneighbor belonged to, seemed to be pretty rigorous. No doubt\\nillustration and architecture were too. But painting was post-rigorous.\\nPainting students were supposed to express themselves, which to the\\nmore worldly ones meant to try to cook up some sort of distinctive\\nsignature style.A signature style is the visual equivalent of what in show business\\nis known as a \"schtick\": something that immediately identifies the\\nwork as yours and no one else\\'s. For example, when you see a painting\\nthat looks like a certain kind of cartoon, you know it\\'s by Roy\\nLichtenstein. So if you see a big painting of this type hanging in\\nthe apartment of a hedge fund manager, you know he paid millions\\nof dollars for it. That\\'s not always why artists have a signature\\nstyle, but it\\'s usually why buyers pay a lot for such work.\\n[6]There were plenty of earnest students too: kids who \"could draw\"\\nin high school, and now had come to what was supposed to be the\\nbest art school in the country, to learn to draw even better. They\\ntended to be confused and demoralized by what they found at RISD,\\nbut they kept going, because painting was what they did. I was not\\none of the kids who could draw in high school, but at RISD I was\\ndefinitely closer to their tribe than the tribe of signature style\\nseekers.I learned a lot in the color class I took at RISD, but otherwise I\\nwas basically teaching myself to paint, and I could do that for\\nfree. So in 1993 I dropped out. I hung around Providence for a bit,\\nand then my college friend Nancy Parmet did me a big favor. A\\nrent-controlled apartment in a building her mother owned in New\\nYork was becoming vacant. Did I want it? It wasn\\'t much more than\\nmy current place, and New York was supposed to be where the artists\\nwere. So yes, I wanted it!\\n[7]Asterix comics begin by zooming in on a tiny corner of Roman Gaul\\nthat turns out not to be controlled by the Romans. You can do\\nsomething similar on a map of New York City: if you zoom in on the\\nUpper East Side, there\\'s a tiny corner that\\'s not rich, or at least\\nwasn\\'t in 1993. It\\'s called Yorkville, and that was my new home.\\nNow I was a New York artist \\x97 in the strictly technical sense of\\nmaking paintings and living in New York.I was nervous about money, because I could sense that Interleaf was\\non the way down. Freelance Lisp hacking work was very rare, and I\\ndidn\\'t want to have to program in another language, which in those\\ndays would have meant C++ if I was lucky. So with my unerring nose\\nfor financial opportunity, I decided to write another book on Lisp.\\nThis would be a popular book, the sort of book that could be used\\nas a textbook. I imagined myself living frugally off the royalties\\nand spending all my time painting. (The painting on the cover of\\nthis book, ANSI Common Lisp, is one that I painted around this\\ntime.)The best thing about New York for me was the presence of Idelle and\\nJulian Weber. Idelle Weber was a painter, one of the early\\nphotorealists, and I\\'d taken her painting class at Harvard. I\\'ve\\nnever known a teacher more beloved by her students. Large numbers\\nof former students kept in touch with her, including me. After I\\nmoved to New York I became her de facto studio assistant.She liked to paint on big, square canvases, 4 to 5 feet on a side.\\nOne day in late 1994 as I was stretching one of these monsters there\\nwas something on the radio about a famous fund manager. He wasn\\'t\\nthat much older than me, and was super rich. The thought suddenly\\noccurred to me: why don\\'t I become rich? Then I\\'ll be able to work\\non whatever I want.Meanwhile I\\'d been hearing more and more about this new thing called\\nthe World Wide Web. Robert Morris showed it to me when I visited\\nhim in Cambridge, where he was now in grad school at Harvard. It\\nseemed to me that the web would be a big deal. I\\'d seen what graphical\\nuser interfaces had done for the popularity of microcomputers. It\\nseemed like the web would do the same for the internet.If I wanted to get rich, here was the next train leaving the station.\\nI was right about that part. What I got wrong was the idea. I decided\\nwe should start a company to put art galleries online. I can\\'t\\nhonestly say, after reading so many Y Combinator applications, that\\nthis was the worst startup idea ever, but it was up there. Art\\ngalleries didn\\'t want to be online, and still don\\'t, not the fancy\\nones. That\\'s not how they sell. I wrote some software to generate\\nweb sites for galleries, and Robert wrote some to resize images and\\nset up an http server to serve the pages. Then we tried to sign up\\ngalleries. To call this a difficult sale would be an understatement.\\nIt was difficult to give away. A few galleries let us make sites\\nfor them for free, but none paid us.Then some online stores started to appear, and I realized that\\nexcept for the order buttons they were identical to the sites we\\'d\\nbeen generating for galleries. This impressive-sounding thing called\\nan \"internet storefront\" was something we already knew how to build.So in the summer of 1995, after I submitted the camera-ready copy\\nof ANSI Common Lisp to the publishers, we started trying to write\\nsoftware to build online stores. At first this was going to be\\nnormal desktop software, which in those days meant Windows software.\\nThat was an alarming prospect, because neither of us knew how to\\nwrite Windows software or wanted to learn. We lived in the Unix\\nworld. But we decided we\\'d at least try writing a prototype store\\nbuilder on Unix. Robert wrote a shopping cart, and I wrote a new\\nsite generator for stores \\x97 in Lisp, of course.We were working out of Robert\\'s apartment in Cambridge. His roommate\\nwas away for big chunks of time, during which I got to sleep in his\\nroom. For some reason there was no bed frame or sheets, just a\\nmattress on the floor. One morning as I was lying on this mattress\\nI had an idea that made me sit up like a capital L. What if we ran\\nthe software on the server, and let users control it by clicking\\non links? Then we\\'d never have to write anything to run on users\\'\\ncomputers. We could generate the sites on the same server we\\'d serve\\nthem from. Users wouldn\\'t need anything more than a browser.This kind of software, known as a web app, is common now, but at\\nthe time it wasn\\'t clear that it was even possible. To find out,\\nwe decided to try making a version of our store builder that you\\ncould control through the browser. A couple days later, on August\\n12, we had one that worked. The UI was horrible, but it proved you\\ncould build a whole store through the browser, without any client\\nsoftware or typing anything into the command line on the server.Now we felt like we were really onto something. I had visions of a\\nwhole new generation of software working this way. You wouldn\\'t\\nneed versions, or ports, or any of that crap. At Interleaf there\\nhad been a whole group called Release Engineering that seemed to\\nbe at least as big as the group that actually wrote the software.\\nNow you could just update the software right on the server.We started a new company we called Viaweb, after the fact that our\\nsoftware worked via the web, and we got $10,000 in seed funding\\nfrom Idelle\\'s husband Julian. In return for that and doing the\\ninitial legal work and giving us business advice, we gave him 10%\\nof the company. Ten years later this deal became the model for Y\\nCombinator\\'s. We knew founders needed something like this, because\\nwe\\'d needed it ourselves.At this stage I had a negative net worth, because the thousand\\ndollars or so I had in the bank was more than counterbalanced by\\nwhat I owed the government in taxes. (Had I diligently set aside\\nthe proper proportion of the money I\\'d made consulting for Interleaf?\\nNo, I had not.) So although Robert had his graduate student stipend,\\nI needed that seed funding to live on.We originally hoped to launch in September, but we got more ambitious\\nabout the software as we worked on it. Eventually we managed to\\nbuild a WYSIWYG site builder, in the sense that as you were creating\\npages, they looked exactly like the static ones that would be\\ngenerated later, except that instead of leading to static pages,\\nthe links all referred to closures stored in a hash table on the\\nserver.It helped to have studied art, because the main goal of an online\\nstore builder is to make users look legit, and the key to looking\\nlegit is high production values. If you get page layouts and fonts\\nand colors right, you can make a guy running a store out of his\\nbedroom look more legit than a big company.(If you\\'re curious why my site looks so old-fashioned, it\\'s because\\nit\\'s still made with this software. It may look clunky today, but\\nin 1996 it was the last word in slick.)In September, Robert rebelled. \"We\\'ve been working on this for a\\nmonth,\" he said, \"and it\\'s still not done.\" This is funny in\\nretrospect, because he would still be working on it almost 3 years\\nlater. But I decided it might be prudent to recruit more programmers,\\nand I asked Robert who else in grad school with him was really good.\\nHe recommended Trevor Blackwell, which surprised me at first, because\\nat that point I knew Trevor mainly for his plan to reduce everything\\nin his life to a stack of notecards, which he carried around with\\nhim. But Rtm was right, as usual. Trevor turned out to be a\\nfrighteningly effective hacker.It was a lot of fun working with Robert and Trevor. They\\'re the two\\nmost independent-minded people \\nI know, and in completely different\\nways. If you could see inside Rtm\\'s brain it would look like a\\ncolonial New England church, and if you could see inside Trevor\\'s\\nit would look like the worst excesses of Austrian Rococo.We opened for business, with 6 stores, in January 1996. It was just\\nas well we waited a few months, because although we worried we were\\nlate, we were actually almost fatally early. There was a lot of\\ntalk in the press then about ecommerce, but not many people actually\\nwanted online stores.\\n[8]There were three main parts to the software: the editor, which\\npeople used to build sites and which I wrote, the shopping cart,\\nwhich Robert wrote, and the manager, which kept track of orders and\\nstatistics, and which Trevor wrote. In its time, the editor was one\\nof the best general-purpose site builders. I kept the code tight\\nand didn\\'t have to integrate with any other software except Robert\\'s\\nand Trevor\\'s, so it was quite fun to work on. If all I\\'d had to do\\nwas work on this software, the next 3 years would have been the\\neasiest of my life. Unfortunately I had to do a lot more, all of\\nit stuff I was worse at than programming, and the next 3 years were\\ninstead the most stressful.There were a lot of startups making ecommerce software in the second\\nhalf of the 90s. We were determined to be the Microsoft Word, not\\nthe Interleaf. Which meant being easy to use and inexpensive. It\\nwas lucky for us that we were poor, because that caused us to make\\nViaweb even more inexpensive than we realized. We charged $100 a\\nmonth for a small store and $300 a month for a big one. This low\\nprice was a big attraction, and a constant thorn in the sides of\\ncompetitors, but it wasn\\'t because of some clever insight that we\\nset the price low. We had no idea what businesses paid for things.\\n$300 a month seemed like a lot of money to us.We did a lot of things right by accident like that. For example,\\nwe did what\\'s now called \"doing things that \\ndon\\'t scale,\" although\\nat the time we would have described it as \"being so lame that we\\'re\\ndriven to the most desperate measures to get users.\" The most common\\nof which was building stores for them. This seemed particularly\\nhumiliating, since the whole raison d\\'etre of our software was that\\npeople could use it to make their own stores. But anything to get\\nusers.We learned a lot more about retail than we wanted to know. For\\nexample, that if you could only have a small image of a man\\'s shirt\\n(and all images were small then by present standards), it was better\\nto have a closeup of the collar than a picture of the whole shirt.\\nThe reason I remember learning this was that it meant I had to\\nrescan about 30 images of men\\'s shirts. My first set of scans were\\nso beautiful too.Though this felt wrong, it was exactly the right thing to be doing.\\nBuilding stores for users taught us about retail, and about how it\\nfelt to use our software. I was initially both mystified and repelled\\nby \"business\" and thought we needed a \"business person\" to be in\\ncharge of it, but once we started to get users, I was converted,\\nin much the same way I was converted to \\nfatherhood once I had kids.\\nWhatever users wanted, I was all theirs. Maybe one day we\\'d have\\nso many users that I couldn\\'t scan their images for them, but in\\nthe meantime there was nothing more important to do.Another thing I didn\\'t get at the time is that \\ngrowth rate is the\\nultimate test of a startup. Our growth rate was fine. We had about\\n70 stores at the end of 1996 and about 500 at the end of 1997. I\\nmistakenly thought the thing that mattered was the absolute number\\nof users. And that is the thing that matters in the sense that\\nthat\\'s how much money you\\'re making, and if you\\'re not making enough,\\nyou might go out of business. But in the long term the growth rate\\ntakes care of the absolute number. If we\\'d been a startup I was\\nadvising at Y Combinator, I would have said: Stop being so stressed\\nout, because you\\'re doing fine. You\\'re growing 7x a year. Just don\\'t\\nhire too many more people and you\\'ll soon be profitable, and then\\nyou\\'ll control your own destiny.Alas I hired lots more people, partly because our investors wanted\\nme to, and partly because that\\'s what startups did during the\\nInternet Bubble. A company with just a handful of employees would\\nhave seemed amateurish. So we didn\\'t reach breakeven until about\\nwhen Yahoo bought us in the summer of 1998. Which in turn meant we\\nwere at the mercy of investors for the entire life of the company.\\nAnd since both we and our investors were noobs at startups, the\\nresult was a mess even by startup standards.It was a huge relief when Yahoo bought us. In principle our Viaweb\\nstock was valuable. It was a share in a business that was profitable\\nand growing rapidly. But it didn\\'t feel very valuable to me; I had\\nno idea how to value a business, but I was all too keenly aware of\\nthe near-death experiences we seemed to have every few months. Nor\\nhad I changed my grad student lifestyle significantly since we\\nstarted. So when Yahoo bought us it felt like going from rags to\\nriches. Since we were going to California, I bought a car, a yellow\\n1998 VW GTI. I remember thinking that its leather seats alone were\\nby far the most luxurious thing I owned.The next year, from the summer of 1998 to the summer of 1999, must\\nhave been the least productive of my life. I didn\\'t realize it at\\nthe time, but I was worn out from the effort and stress of running\\nViaweb. For a while after I got to California I tried to continue\\nmy usual m.o. of programming till 3 in the morning, but fatigue\\ncombined with Yahoo\\'s prematurely aged\\nculture and grim cube farm\\nin Santa Clara gradually dragged me down. After a few months it\\nfelt disconcertingly like working at Interleaf.Yahoo had given us a lot of options when they bought us. At the\\ntime I thought Yahoo was so overvalued that they\\'d never be worth\\nanything, but to my astonishment the stock went up 5x in the next\\nyear. I hung on till the first chunk of options vested, then in the\\nsummer of 1999 I left. It had been so long since I\\'d painted anything\\nthat I\\'d half forgotten why I was doing this. My brain had been\\nentirely full of software and men\\'s shirts for 4 years. But I had\\ndone this to get rich so I could paint, I reminded myself, and now\\nI was rich, so I should go paint.When I said I was leaving, my boss at Yahoo had a long conversation\\nwith me about my plans. I told him all about the kinds of pictures\\nI wanted to paint. At the time I was touched that he took such an\\ninterest in me. Now I realize it was because he thought I was lying.\\nMy options at that point were worth about $2 million a month. If I\\nwas leaving that kind of money on the table, it could only be to\\ngo and start some new startup, and if I did, I might take people\\nwith me. This was the height of the Internet Bubble, and Yahoo was\\nground zero of it. My boss was at that moment a billionaire. Leaving\\nthen to start a new startup must have seemed to him an insanely,\\nand yet also plausibly, ambitious plan.But I really was quitting to paint, and I started immediately.\\nThere was no time to lose. I\\'d already burned 4 years getting rich.\\nNow when I talk to founders who are leaving after selling their\\ncompanies, my advice is always the same: take a vacation. That\\'s\\nwhat I should have done, just gone off somewhere and done nothing\\nfor a month or two, but the idea never occurred to me.So I tried to paint, but I just didn\\'t seem to have any energy or\\nambition. Part of the problem was that I didn\\'t know many people\\nin California. I\\'d compounded this problem by buying a house up in\\nthe Santa Cruz Mountains, with a beautiful view but miles from\\nanywhere. I stuck it out for a few more months, then in desperation\\nI went back to New York, where unless you understand about rent\\ncontrol you\\'ll be surprised to hear I still had my apartment, sealed\\nup like a tomb of my old life. Idelle was in New York at least, and\\nthere were other people trying to paint there, even though I didn\\'t\\nknow any of them.When I got back to New York I resumed my old life, except now I was\\nrich. It was as weird as it sounds. I resumed all my old patterns,\\nexcept now there were doors where there hadn\\'t been. Now when I was\\ntired of walking, all I had to do was raise my hand, and (unless\\nit was raining) a taxi would stop to pick me up. Now when I walked\\npast charming little restaurants I could go in and order lunch. It\\nwas exciting for a while. Painting started to go better. I experimented\\nwith a new kind of still life where I\\'d paint one painting in the\\nold way, then photograph it and print it, blown up, on canvas, and\\nthen use that as the underpainting for a second still life, painted\\nfrom the same objects (which hopefully hadn\\'t rotted yet).Meanwhile I looked for an apartment to buy. Now I could actually\\nchoose what neighborhood to live in. Where, I asked myself and\\nvarious real estate agents, is the Cambridge of New York? Aided by\\noccasional visits to actual Cambridge, I gradually realized there\\nwasn\\'t one. Huh.Around this time, in the spring of 2000, I had an idea. It was clear\\nfrom our experience with Viaweb that web apps were the future. Why\\nnot build a web app for making web apps? Why not let people edit\\ncode on our server through the browser, and then host the resulting\\napplications for them?\\n[9]\\nYou could run all sorts of services\\non the servers that these applications could use just by making an\\nAPI call: making and receiving phone calls, manipulating images,\\ntaking credit card payments, etc.I got so excited about this idea that I couldn\\'t think about anything\\nelse. It seemed obvious that this was the future. I didn\\'t particularly\\nwant to start another company, but it was clear that this idea would\\nhave to be embodied as one, so I decided to move to Cambridge and\\nstart it. I hoped to lure Robert into working on it with me, but\\nthere I ran into a hitch. Robert was now a postdoc at MIT, and\\nthough he\\'d made a lot of money the last time I\\'d lured him into\\nworking on one of my schemes, it had also been a huge time sink.\\nSo while he agreed that it sounded like a plausible idea, he firmly\\nrefused to work on it.Hmph. Well, I\\'d do it myself then. I recruited Dan Giffin, who had\\nworked for Viaweb, and two undergrads who wanted summer jobs, and\\nwe got to work trying to build what it\\'s now clear is about twenty\\ncompanies and several open source projects worth of software. The\\nlanguage for defining applications would of course be a dialect of\\nLisp. But I wasn\\'t so naive as to assume I could spring an overt\\nLisp on a general audience; we\\'d hide the parentheses, like Dylan\\ndid.By then there was a name for the kind of company Viaweb was, an\\n\"application service provider,\" or ASP. This name didn\\'t last long\\nbefore it was replaced by \"software as a service,\" but it was current\\nfor long enough that I named this new company after it: it was going\\nto be called Aspra.I started working on the application builder, Dan worked on network\\ninfrastructure, and the two undergrads worked on the first two\\nservices (images and phone calls). But about halfway through the\\nsummer I realized I really didn\\'t want to run a company \\x97 especially\\nnot a big one, which it was looking like this would have to be. I\\'d\\nonly started Viaweb because I needed the money. Now that I didn\\'t\\nneed money anymore, why was I doing this? If this vision had to be\\nrealized as a company, then screw the vision. I\\'d build a subset\\nthat could be done as an open source project.Much to my surprise, the time I spent working on this stuff was not\\nwasted after all. After we started Y Combinator, I would often\\nencounter startups working on parts of this new architecture, and\\nit was very useful to have spent so much time thinking about it and\\neven trying to write some of it.The subset I would build as an open source project was the new Lisp,\\nwhose parentheses I now wouldn\\'t even have to hide. A lot of Lisp\\nhackers dream of building a new Lisp, partly because one of the\\ndistinctive features of the language is that it has dialects, and\\npartly, I think, because we have in our minds a Platonic form of\\nLisp that all existing dialects fall short of. I certainly did. So\\nat the end of the summer Dan and I switched to working on this new\\ndialect of Lisp, which I called Arc, in a house I bought in Cambridge.The following spring, lightning struck. I was invited to give a\\ntalk at a Lisp conference, so I gave one about how we\\'d used Lisp\\nat Viaweb. Afterward I put a postscript file of this talk online,\\non paulgraham.com, which I\\'d created years before using Viaweb but\\nhad never used for anything. In one day it got 30,000 page views.\\nWhat on earth had happened? The referring urls showed that someone\\nhad posted it on Slashdot.\\n[10]Wow, I thought, there\\'s an audience. If I write something and put\\nit on the web, anyone can read it. That may seem obvious now, but\\nit was surprising then. In the print era there was a narrow channel\\nto readers, guarded by fierce monsters known as editors. The only\\nway to get an audience for anything you wrote was to get it published\\nas a book, or in a newspaper or magazine. Now anyone could publish\\nanything.This had been possible in principle since 1993, but not many people\\nhad realized it yet. I had been intimately involved with building\\nthe infrastructure of the web for most of that time, and a writer\\nas well, and it had taken me 8 years to realize it. Even then it\\ntook me several years to understand the implications. It meant there\\nwould be a whole new generation of \\nessays.\\n[11]In the print era, the channel for publishing essays had been\\nvanishingly small. Except for a few officially anointed thinkers\\nwho went to the right parties in New York, the only people allowed\\nto publish essays were specialists writing about their specialties.\\nThere were so many essays that had never been written, because there\\nhad been no way to publish them. Now they could be, and I was going\\nto write them.\\n[12]I\\'ve worked on several different things, but to the extent there\\nwas a turning point where I figured out what to work on, it was\\nwhen I started publishing essays online. From then on I knew that\\nwhatever else I did, I\\'d always write essays too.I knew that online essays would be a \\nmarginal medium at first.\\nSocially they\\'d seem more like rants posted by nutjobs on their\\nGeoCities sites than the genteel and beautifully typeset compositions\\npublished in The New Yorker. But by this point I knew enough to\\nfind that encouraging instead of discouraging.One of the most conspicuous patterns I\\'ve noticed in my life is how\\nwell it has worked, for me at least, to work on things that weren\\'t\\nprestigious. Still life has always been the least prestigious form\\nof painting. Viaweb and Y Combinator both seemed lame when we started\\nthem. I still get the glassy eye from strangers when they ask what\\nI\\'m writing, and I explain that it\\'s an essay I\\'m going to publish\\non my web site. Even Lisp, though prestigious intellectually in\\nsomething like the way Latin is, also seems about as hip.It\\'s not that unprestigious types of work are good per se. But when\\nyou find yourself drawn to some kind of work despite its current\\nlack of prestige, it\\'s a sign both that there\\'s something real to\\nbe discovered there, and that you have the right kind of motives.\\nImpure motives are a big danger for the ambitious. If anything is\\ngoing to lead you astray, it will be the desire to impress people.\\nSo while working on things that aren\\'t prestigious doesn\\'t guarantee\\nyou\\'re on the right track, it at least guarantees you\\'re not on the\\nmost common type of wrong one.Over the next several years I wrote lots of essays about all kinds\\nof different topics. O\\'Reilly reprinted a collection of them as a\\nbook, called Hackers & Painters after one of the essays in it. I\\nalso worked on spam filters, and did some more painting. I used to\\nhave dinners for a group of friends every thursday night, which\\ntaught me how to cook for groups. And I bought another building in\\nCambridge, a former candy factory (and later, twas said, porn\\nstudio), to use as an office.One night in October 2003 there was a big party at my house. It was\\na clever idea of my friend Maria Daniels, who was one of the thursday\\ndiners. Three separate hosts would all invite their friends to one\\nparty. So for every guest, two thirds of the other guests would be\\npeople they didn\\'t know but would probably like. One of the guests\\nwas someone I didn\\'t know but would turn out to like a lot: a woman\\ncalled Jessica Livingston. A couple days later I asked her out.Jessica was in charge of marketing at a Boston investment bank.\\nThis bank thought it understood startups, but over the next year,\\nas she met friends of mine from the startup world, she was surprised\\nhow different reality was. And how colorful their stories were. So\\nshe decided to compile a book of \\ninterviews with startup founders.When the bank had financial problems and she had to fire half her\\nstaff, she started looking for a new job. In early 2005 she interviewed\\nfor a marketing job at a Boston VC firm. It took them weeks to make\\nup their minds, and during this time I started telling her about\\nall the things that needed to be fixed about venture capital. They\\nshould make a larger number of smaller investments instead of a\\nhandful of giant ones, they should be funding younger, more technical\\nfounders instead of MBAs, they should let the founders remain as\\nCEO, and so on.One of my tricks for writing essays had always been to give talks.\\nThe prospect of having to stand up in front of a group of people\\nand tell them something that won\\'t waste their time is a great\\nspur to the imagination. When the Harvard Computer Society, the\\nundergrad computer club, asked me to give a talk, I decided I would\\ntell them how to start a startup. Maybe they\\'d be able to avoid the\\nworst of the mistakes we\\'d made.So I gave this talk, in the course of which I told them that the\\nbest sources of seed funding were successful startup founders,\\nbecause then they\\'d be sources of advice too. Whereupon it seemed\\nthey were all looking expectantly at me. Horrified at the prospect\\nof having my inbox flooded by business plans (if I\\'d only known),\\nI blurted out \"But not me!\" and went on with the talk. But afterward\\nit occurred to me that I should really stop procrastinating about\\nangel investing. I\\'d been meaning to since Yahoo bought us, and now\\nit was 7 years later and I still hadn\\'t done one angel investment.Meanwhile I had been scheming with Robert and Trevor about projects\\nwe could work on together. I missed working with them, and it seemed\\nlike there had to be something we could collaborate on.As Jessica and I were walking home from dinner on March 11, at the\\ncorner of Garden and Walker streets, these three threads converged.\\nScrew the VCs who were taking so long to make up their minds. We\\'d\\nstart our own investment firm and actually implement the ideas we\\'d\\nbeen talking about. I\\'d fund it, and Jessica could quit her job and\\nwork for it, and we\\'d get Robert and Trevor as partners too.\\n[13]Once again, ignorance worked in our favor. We had no idea how to\\nbe angel investors, and in Boston in 2005 there were no Ron Conways\\nto learn from. So we just made what seemed like the obvious choices,\\nand some of the things we did turned out to be novel.There are multiple components to Y Combinator, and we didn\\'t figure\\nthem all out at once. The part we got first was to be an angel firm.\\nIn those days, those two words didn\\'t go together. There were VC\\nfirms, which were organized companies with people whose job it was\\nto make investments, but they only did big, million dollar investments.\\nAnd there were angels, who did smaller investments, but these were\\nindividuals who were usually focused on other things and made\\ninvestments on the side. And neither of them helped founders enough\\nin the beginning. We knew how helpless founders were in some respects,\\nbecause we remembered how helpless we\\'d been. For example, one thing\\nJulian had done for us that seemed to us like magic was to get us\\nset up as a company. We were fine writing fairly difficult software,\\nbut actually getting incorporated, with bylaws and stock and all\\nthat stuff, how on earth did you do that? Our plan was not only to\\nmake seed investments, but to do for startups everything Julian had\\ndone for us.YC was not organized as a fund. It was cheap enough to run that we\\nfunded it with our own money. That went right by 99% of readers,\\nbut professional investors are thinking \"Wow, that means they got\\nall the returns.\" But once again, this was not due to any particular\\ninsight on our part. We didn\\'t know how VC firms were organized.\\nIt never occurred to us to try to raise a fund, and if it had, we\\nwouldn\\'t have known where to start.\\n[14]The most distinctive thing about YC is the batch model: to fund a\\nbunch of startups all at once, twice a year, and then to spend three\\nmonths focusing intensively on trying to help them. That part we\\ndiscovered by accident, not merely implicitly but explicitly due\\nto our ignorance about investing. We needed to get experience as\\ninvestors. What better way, we thought, than to fund a whole bunch\\nof startups at once? We knew undergrads got temporary jobs at tech\\ncompanies during the summer. Why not organize a summer program where\\nthey\\'d start startups instead? We wouldn\\'t feel guilty for being\\nin a sense fake investors, because they would in a similar sense\\nbe fake founders. So while we probably wouldn\\'t make much money out\\nof it, we\\'d at least get to practice being investors on them, and\\nthey for their part would probably have a more interesting summer\\nthan they would working at Microsoft.We\\'d use the building I owned in Cambridge as our headquarters.\\nWe\\'d all have dinner there once a week \\x97 on tuesdays, since I was\\nalready cooking for the thursday diners on thursdays \\x97 and after\\ndinner we\\'d bring in experts on startups to give talks.We knew undergrads were deciding then about summer jobs, so in a\\nmatter of days we cooked up something we called the Summer Founders\\nProgram, and I posted an \\nannouncement \\non my site, inviting undergrads\\nto apply. I had never imagined that writing essays would be a way\\nto get \"deal flow,\" as investors call it, but it turned out to be\\nthe perfect source.\\n[15]\\nWe got 225 applications for the Summer\\nFounders Program, and we were surprised to find that a lot of them\\nwere from people who\\'d already graduated, or were about to that\\nspring. Already this SFP thing was starting to feel more serious\\nthan we\\'d intended.We invited about 20 of the 225 groups to interview in person, and\\nfrom those we picked 8 to fund. They were an impressive group. That\\nfirst batch included reddit, Justin Kan and Emmett Shear, who went\\non to found Twitch, Aaron Swartz, who had already helped write the\\nRSS spec and would a few years later become a martyr for open access,\\nand Sam Altman, who would later become the second president of YC.\\nI don\\'t think it was entirely luck that the first batch was so good.\\nYou had to be pretty bold to sign up for a weird thing like the\\nSummer Founders Program instead of a summer job at a legit place\\nlike Microsoft or Goldman Sachs.The deal for startups was based on a combination of the deal we did\\nwith Julian ($10k for 10%) and what Robert said MIT grad students\\ngot for the summer ($6k). We invested $6k per founder, which in the\\ntypical two-founder case was $12k, in return for 6%. That had to\\nbe fair, because it was twice as good as the deal we ourselves had\\ntaken. Plus that first summer, which was really hot, Jessica brought\\nthe founders free air conditioners.\\n[16]Fairly quickly I realized that we had stumbled upon the way to scale\\nstartup funding. Funding startups in batches was more convenient\\nfor us, because it meant we could do things for a lot of startups\\nat once, but being part of a batch was better for the startups too.\\nIt solved one of the biggest problems faced by founders: the\\nisolation. Now you not only had colleagues, but colleagues who\\nunderstood the problems you were facing and could tell you how they\\nwere solving them.As YC grew, we started to notice other advantages of scale. The\\nalumni became a tight community, dedicated to helping one another,\\nand especially the current batch, whose shoes they remembered being\\nin. We also noticed that the startups were becoming one another\\'s\\ncustomers. We used to refer jokingly to the \"YC GDP,\" but as YC\\ngrows this becomes less and less of a joke. Now lots of startups\\nget their initial set of customers almost entirely from among their\\nbatchmates.I had not originally intended YC to be a full-time job. I was going\\nto do three things: hack, write essays, and work on YC. As YC grew,\\nand I grew more excited about it, it started to take up a lot more\\nthan a third of my attention. But for the first few years I was\\nstill able to work on other things.In the summer of 2006, Robert and I started working on a new version\\nof Arc. This one was reasonably fast, because it was compiled into\\nScheme. To test this new Arc, I wrote Hacker News in it. It was\\noriginally meant to be a news aggregator for startup founders and\\nwas called Startup News, but after a few months I got tired of\\nreading about nothing but startups. Plus it wasn\\'t startup founders\\nwe wanted to reach. It was future startup founders. So I changed\\nthe name to Hacker News and the topic to whatever engaged one\\'s\\nintellectual curiosity.HN was no doubt good for YC, but it was also by far the biggest\\nsource of stress for me. If all I\\'d had to do was select and help\\nfounders, life would have been so easy. And that implies that HN\\nwas a mistake. Surely the biggest source of stress in one\\'s work\\nshould at least be something close to the core of the work. Whereas\\nI was like someone who was in pain while running a marathon not\\nfrom the exertion of running, but because I had a blister from an\\nill-fitting shoe. When I was dealing with some urgent problem during\\nYC, there was about a 60% chance it had to do with HN, and a 40%\\nchance it had do with everything else combined.\\n[17]As well as HN, I wrote all of YC\\'s internal software in Arc. But\\nwhile I continued to work a good deal in Arc, I gradually stopped\\nworking on Arc, partly because I didn\\'t have time to, and partly\\nbecause it was a lot less attractive to mess around with the language\\nnow that we had all this infrastructure depending on it. So now my\\nthree projects were reduced to two: writing essays and working on\\nYC.YC was different from other kinds of work I\\'ve done. Instead of\\ndeciding for myself what to work on, the problems came to me. Every\\n6 months there was a new batch of startups, and their problems,\\nwhatever they were, became our problems. It was very engaging work,\\nbecause their problems were quite varied, and the good founders\\nwere very effective. If you were trying to learn the most you could\\nabout startups in the shortest possible time, you couldn\\'t have\\npicked a better way to do it.There were parts of the job I didn\\'t like. Disputes between cofounders,\\nfiguring out when people were lying to us, fighting with people who\\nmaltreated the startups, and so on. But I worked hard even at the\\nparts I didn\\'t like. I was haunted by something Kevin Hale once\\nsaid about companies: \"No one works harder than the boss.\" He meant\\nit both descriptively and prescriptively, and it was the second\\npart that scared me. I wanted YC to be good, so if how hard I worked\\nset the upper bound on how hard everyone else worked, I\\'d better\\nwork very hard.One day in 2010, when he was visiting California for interviews,\\nRobert Morris did something astonishing: he offered me unsolicited\\nadvice. I can only remember him doing that once before. One day at\\nViaweb, when I was bent over double from a kidney stone, he suggested\\nthat it would be a good idea for him to take me to the hospital.\\nThat was what it took for Rtm to offer unsolicited advice. So I\\nremember his exact words very clearly. \"You know,\" he said, \"you\\nshould make sure Y Combinator isn\\'t the last cool thing you do.\"At the time I didn\\'t understand what he meant, but gradually it\\ndawned on me that he was saying I should quit. This seemed strange\\nadvice, because YC was doing great. But if there was one thing rarer\\nthan Rtm offering advice, it was Rtm being wrong. So this set me\\nthinking. It was true that on my current trajectory, YC would be\\nthe last thing I did, because it was only taking up more of my\\nattention. It had already eaten Arc, and was in the process of\\neating essays too. Either YC was my life\\'s work or I\\'d have to leave\\neventually. And it wasn\\'t, so I would.In the summer of 2012 my mother had a stroke, and the cause turned\\nout to be a blood clot caused by colon cancer. The stroke destroyed\\nher balance, and she was put in a nursing home, but she really\\nwanted to get out of it and back to her house, and my sister and I\\nwere determined to help her do it. I used to fly up to Oregon to\\nvisit her regularly, and I had a lot of time to think on those\\nflights. On one of them I realized I was ready to hand YC over to\\nsomeone else.I asked Jessica if she wanted to be president, but she didn\\'t, so\\nwe decided we\\'d try to recruit Sam Altman. We talked to Robert and\\nTrevor and we agreed to make it a complete changing of the guard.\\nUp till that point YC had been controlled by the original LLC we\\nfour had started. But we wanted YC to last for a long time, and to\\ndo that it couldn\\'t be controlled by the founders. So if Sam said\\nyes, we\\'d let him reorganize YC. Robert and I would retire, and\\nJessica and Trevor would become ordinary partners.When we asked Sam if he wanted to be president of YC, initially he\\nsaid no. He wanted to start a startup to make nuclear reactors.\\nBut I kept at it, and in October 2013 he finally agreed. We decided\\nhe\\'d take over starting with the winter 2014 batch. For the rest\\nof 2013 I left running YC more and more to Sam, partly so he could\\nlearn the job, and partly because I was focused on my mother, whose\\ncancer had returned.She died on January 15, 2014. We knew this was coming, but it was\\nstill hard when it did.I kept working on YC till March, to help get that batch of startups\\nthrough Demo Day, then I checked out pretty completely. (I still\\ntalk to alumni and to new startups working on things I\\'m interested\\nin, but that only takes a few hours a week.)What should I do next? Rtm\\'s advice hadn\\'t included anything about\\nthat. I wanted to do something completely different, so I decided\\nI\\'d paint. I wanted to see how good I could get if I really focused\\non it. So the day after I stopped working on YC, I started painting.\\nI was rusty and it took a while to get back into shape, but it was\\nat least completely engaging.\\n[18]I spent most of the rest of 2014 painting. I\\'d never been able to\\nwork so uninterruptedly before, and I got to be better than I had\\nbeen. Not good enough, but better. Then in November, right in the\\nmiddle of a painting, I ran out of steam. Up till that point I\\'d\\nalways been curious to see how the painting I was working on would\\nturn out, but suddenly finishing this one seemed like a chore. So\\nI stopped working on it and cleaned my brushes and haven\\'t painted\\nsince. So far anyway.I realize that sounds rather wimpy. But attention is a zero sum\\ngame. If you can choose what to work on, and you choose a project\\nthat\\'s not the best one (or at least a good one) for you, then it\\'s\\ngetting in the way of another project that is. And at 50 there was\\nsome opportunity cost to screwing around.I started writing essays again, and wrote a bunch of new ones over\\nthe next few months. I even wrote a couple that \\nweren\\'t about\\nstartups. Then in March 2015 I started working on Lisp again.The distinctive thing about Lisp is that its core is a language\\ndefined by writing an interpreter in itself. It wasn\\'t originally\\nintended as a programming language in the ordinary sense. It was\\nmeant to be a formal model of computation, an alternative to the\\nTuring machine. If you want to write an interpreter for a language\\nin itself, what\\'s the minimum set of predefined operators you need?\\nThe Lisp that John McCarthy invented, or more accurately discovered,\\nis an answer to that question.\\n[19]McCarthy didn\\'t realize this Lisp could even be used to program\\ncomputers till his grad student Steve Russell suggested it. Russell\\ntranslated McCarthy\\'s interpreter into IBM 704 machine language,\\nand from that point Lisp started also to be a programming language\\nin the ordinary sense. But its origins as a model of computation\\ngave it a power and elegance that other languages couldn\\'t match.\\nIt was this that attracted me in college, though I didn\\'t understand\\nwhy at the time.McCarthy\\'s 1960 Lisp did nothing more than interpret Lisp expressions.\\nIt was missing a lot of things you\\'d want in a programming language.\\nSo these had to be added, and when they were, they weren\\'t defined\\nusing McCarthy\\'s original axiomatic approach. That wouldn\\'t have\\nbeen feasible at the time. McCarthy tested his interpreter by\\nhand-simulating the execution of programs. But it was already getting\\nclose to the limit of interpreters you could test that way \\x97 indeed,\\nthere was a bug in it that McCarthy had overlooked. To test a more\\ncomplicated interpreter, you\\'d have had to run it, and computers\\nthen weren\\'t powerful enough.Now they are, though. Now you could continue using McCarthy\\'s\\naxiomatic approach till you\\'d defined a complete programming language.\\nAnd as long as every change you made to McCarthy\\'s Lisp was a\\ndiscoveredness-preserving transformation, you could, in principle,\\nend up with a complete language that had this quality. Harder to\\ndo than to talk about, of course, but if it was possible in principle,\\nwhy not try? So I decided to take a shot at it. It took 4 years,\\nfrom March 26, 2015 to October 12, 2019. It was fortunate that I\\nhad a precisely defined goal, or it would have been hard to keep\\nat it for so long.I wrote this new Lisp, called Bel, \\nin itself in Arc. That may sound\\nlike a contradiction, but it\\'s an indication of the sort of trickery\\nI had to engage in to make this work. By means of an egregious\\ncollection of hacks I managed to make something close enough to an\\ninterpreter written in itself that could actually run. Not fast,\\nbut fast enough to test.I had to ban myself from writing essays during most of this time,\\nor I\\'d never have finished. In late 2015 I spent 3 months writing\\nessays, and when I went back to working on Bel I could barely\\nunderstand the code. Not so much because it was badly written as\\nbecause the problem is so convoluted. When you\\'re working on an\\ninterpreter written in itself, it\\'s hard to keep track of what\\'s\\nhappening at what level, and errors can be practically encrypted\\nby the time you get them.So I said no more essays till Bel was done. But I told few people\\nabout Bel while I was working on it. So for years it must have\\nseemed that I was doing nothing, when in fact I was working harder\\nthan I\\'d ever worked on anything. Occasionally after wrestling for\\nhours with some gruesome bug I\\'d check Twitter or HN and see someone\\nasking \"Does Paul Graham still code?\"Working on Bel was hard but satisfying. I worked on it so intensively\\nthat at any given time I had a decent chunk of the code in my head\\nand could write more there. I remember taking the boys to the\\ncoast on a sunny day in 2015 and figuring out how to deal with some\\nproblem involving continuations while I watched them play in the\\ntide pools. It felt like I was doing life right. I remember that\\nbecause I was slightly dismayed at how novel it felt. The good news\\nis that I had more moments like this over the next few years.In the summer of 2016 we moved to England. We wanted our kids to\\nsee what it was like living in another country, and since I was a\\nBritish citizen by birth, that seemed the obvious choice. We only\\nmeant to stay for a year, but we liked it so much that we still\\nlive there. So most of Bel was written in England.In the fall of 2019, Bel was finally finished. Like McCarthy\\'s\\noriginal Lisp, it\\'s a spec rather than an implementation, although\\nlike McCarthy\\'s Lisp it\\'s a spec expressed as code.Now that I could write essays again, I wrote a bunch about topics\\nI\\'d had stacked up. I kept writing essays through 2020, but I also\\nstarted to think about other things I could work on. How should I\\nchoose what to do? Well, how had I chosen what to work on in the\\npast? I wrote an essay for myself to answer that question, and I\\nwas surprised how long and messy the answer turned out to be. If\\nthis surprised me, who\\'d lived it, then I thought perhaps it would\\nbe interesting to other people, and encouraging to those with\\nsimilarly messy lives. So I wrote a more detailed version for others\\nto read, and this is the last sentence of it.\\nNotes[1]\\nMy experience skipped a step in the evolution of computers:\\ntime-sharing machines with interactive OSes. I went straight from\\nbatch processing to microcomputers, which made microcomputers seem\\nall the more exciting.[2]\\nItalian words for abstract concepts can nearly always be\\npredicted from their English cognates (except for occasional traps\\nlike polluzione). It\\'s the everyday words that differ. So if you\\nstring together a lot of abstract concepts with a few simple verbs,\\nyou can make a little Italian go a long way.[3]\\nI lived at Piazza San Felice 4, so my walk to the Accademia\\nwent straight down the spine of old Florence: past the Pitti, across\\nthe bridge, past Orsanmichele, between the Duomo and the Baptistery,\\nand then up Via Ricasoli to Piazza San Marco. I saw Florence at\\nstreet level in every possible condition, from empty dark winter\\nevenings to sweltering summer days when the streets were packed with\\ntourists.[4]\\nYou can of course paint people like still lives if you want\\nto, and they\\'re willing. That sort of portrait is arguably the apex\\nof still life painting, though the long sitting does tend to produce\\npained expressions in the sitters.[5]\\nInterleaf was one of many companies that had smart people and\\nbuilt impressive technology, and yet got crushed by Moore\\'s Law.\\nIn the 1990s the exponential growth in the power of commodity (i.e.\\nIntel) processors rolled up high-end, special-purpose hardware and\\nsoftware companies like a bulldozer.[6]\\nThe signature style seekers at RISD weren\\'t specifically\\nmercenary. In the art world, money and coolness are tightly coupled.\\nAnything expensive comes to be seen as cool, and anything seen as\\ncool will soon become equally expensive.[7]\\nTechnically the apartment wasn\\'t rent-controlled but\\nrent-stabilized, but this is a refinement only New Yorkers would\\nknow or care about. The point is that it was really cheap, less\\nthan half market price.[8]\\nMost software you can launch as soon as it\\'s done. But when\\nthe software is an online store builder and you\\'re hosting the\\nstores, if you don\\'t have any users yet, that fact will be painfully\\nobvious. So before we could launch publicly we had to launch\\nprivately, in the sense of recruiting an initial set of users and\\nmaking sure they had decent-looking stores.[9]\\nWe\\'d had a code editor in Viaweb for users to define their\\nown page styles. They didn\\'t know it, but they were editing Lisp\\nexpressions underneath. But this wasn\\'t an app editor, because the\\ncode ran when the merchants\\' sites were generated, not when shoppers\\nvisited them.[10]\\nThis was the first instance of what is now a familiar experience,\\nand so was what happened next, when I read the comments and found\\nthey were full of angry people. How could I claim that Lisp was\\nbetter than other languages? Weren\\'t they all Turing complete?\\nPeople who see the responses to essays I write sometimes tell me\\nhow sorry they feel for me, but I\\'m not exaggerating when I reply\\nthat it has always been like this, since the very beginning. It\\ncomes with the territory. An essay must tell readers things they\\ndon\\'t already know, and some \\npeople dislike being told such things.[11]\\nPeople put plenty of stuff on the internet in the 90s of\\ncourse, but putting something online is not the same as publishing\\nit online. Publishing online means you treat the online version as\\nthe (or at least a) primary version.[12]\\nThere is a general lesson here that our experience with Y\\nCombinator also teaches: Customs continue to constrain you long\\nafter the restrictions that caused them have disappeared. Customary\\nVC practice had once, like the customs about publishing essays,\\nbeen based on real constraints. Startups had once been much more\\nexpensive to start, and proportionally rare. Now they could be cheap\\nand common, but the VCs\\' customs still reflected the old world,\\njust as customs about writing essays still reflected the constraints\\nof the print era.Which in turn implies that people who are independent-minded (i.e.\\nless influenced by custom) will have an advantage in fields affected\\nby rapid change (where customs are more likely to be obsolete).Here\\'s an interesting point, though: you can\\'t always predict which\\nfields will be affected by rapid change. Obviously software and\\nventure capital will be, but who would have predicted that essay\\nwriting would be?[13]\\nY Combinator was not the original name. At first we were\\ncalled Cambridge Seed. But we didn\\'t want a regional name, in case\\nsomeone copied us in Silicon Valley, so we renamed ourselves after\\none of the coolest tricks in the lambda calculus, the Y combinator.I picked orange as our color partly because it\\'s the warmest, and\\npartly because no VC used it. In 2005 all the VCs used staid colors\\nlike maroon, navy blue, and forest green, because they were trying\\nto appeal to LPs, not founders. The YC logo itself is an inside\\njoke: the Viaweb logo had been a white V on a red circle, so I made\\nthe YC logo a white Y on an orange square.[14]\\nYC did become a fund for a couple years starting in 2009,\\nbecause it was getting so big I could no longer afford to fund it\\npersonally. But after Heroku got bought we had enough money to go\\nback to being self-funded.[15]\\nI\\'ve never liked the term \"deal flow,\" because it implies\\nthat the number of new startups at any given time is fixed. This\\nis not only false, but it\\'s the purpose of YC to falsify it, by\\ncausing startups to be founded that would not otherwise have existed.[16]\\nShe reports that they were all different shapes and sizes,\\nbecause there was a run on air conditioners and she had to get\\nwhatever she could, but that they were all heavier than she could\\ncarry now.[17]\\nAnother problem with HN was a bizarre edge case that occurs\\nwhen you both write essays and run a forum. When you run a forum,\\nyou\\'re assumed to see if not every conversation, at least every\\nconversation involving you. And when you write essays, people post\\nhighly imaginative misinterpretations of them on forums. Individually\\nthese two phenomena are tedious but bearable, but the combination\\nis disastrous. You actually have to respond to the misinterpretations,\\nbecause the assumption that you\\'re present in the conversation means\\nthat not responding to any sufficiently upvoted misinterpretation\\nreads as a tacit admission that it\\'s correct. But that in turn\\nencourages more; anyone who wants to pick a fight with you senses\\nthat now is their chance.[18]\\nThe worst thing about leaving YC was not working with Jessica\\nanymore. We\\'d been working on YC almost the whole time we\\'d known\\neach other, and we\\'d neither tried nor wanted to separate it from\\nour personal lives, so leaving was like pulling up a deeply rooted\\ntree.[19]\\nOne way to get more precise about the concept of invented vs\\ndiscovered is to talk about space aliens. Any sufficiently advanced\\nalien civilization would certainly know about the Pythagorean\\ntheorem, for example. I believe, though with less certainty, that\\nthey would also know about the Lisp in McCarthy\\'s 1960 paper.But if so there\\'s no reason to suppose that this is the limit of\\nthe language that might be known to them. Presumably aliens need\\nnumbers and errors and I/O too. So it seems likely there exists at\\nleast one path out of McCarthy\\'s Lisp along which discoveredness\\nis preserved.Thanks to Trevor Blackwell, John Collison, Patrick Collison, Daniel\\nGackle, Ralph Hazell, Jessica Livingston, Robert Morris, and Harj\\nTaggar for reading drafts of this.'"
      ]
     },
     "execution_count": 46,
     "metadata": {},
     "output_type": "execute_result"
    }
   ],
   "source": [
    "essay"
   ]
  },
  {
   "cell_type": "code",
   "execution_count": 48,
   "metadata": {},
   "outputs": [],
   "source": [
    "text_splitter = RecursiveCharacterTextSplitter(\n",
    "    chunk_size=150,\n",
    "    chunk_overlap=20\n",
    ")\n",
    "\n",
    "texts = text_splitter.create_documents([essay])"
   ]
  },
  {
   "cell_type": "code",
   "execution_count": 54,
   "metadata": {},
   "outputs": [
    {
     "name": "stdout",
     "output_type": "stream",
     "text": [
      "606\n",
      "[145, 134, 134, 128, 132, 130, 114, 131, 144, 134]\n"
     ]
    }
   ],
   "source": [
    "print(len(texts))\n",
    "len_texts = [len(text.page_content) for text in texts]\n",
    "print(len_texts[:10])"
   ]
  },
  {
   "cell_type": "markdown",
   "metadata": {},
   "source": [
    "### Retrievers"
   ]
  },
  {
   "cell_type": "code",
   "execution_count": 59,
   "metadata": {},
   "outputs": [],
   "source": [
    "from langchain.document_loaders import TextLoader\n",
    "from langchain.text_splitter import RecursiveCharacterTextSplitter\n",
    "from langchain.vectorstores import FAISS\n",
    "from langchain.embeddings import OpenAIEmbeddings\n",
    "\n",
    "loader = TextLoader(\"data/PaulGrahamEssays/worked.txt\")\n",
    "documents = loader.load()"
   ]
  },
  {
   "cell_type": "code",
   "execution_count": 60,
   "metadata": {},
   "outputs": [
    {
     "data": {
      "text/plain": [
       "[Document(page_content='February 2021Before college the two main things I worked on, outside of school,\\nwere writing and programming. I didn\\'t write essays. I wrote what\\nbeginning writers were supposed to write then, and probably still\\nare: short stories. My stories were awful. They had hardly any plot,\\njust characters with strong feelings, which I imagined made them\\ndeep.The first programs I tried writing were on the IBM 1401 that our\\nschool district used for what was then called \"data processing.\"\\nThis was in 9th grade, so I was 13 or 14. The school district\\'s\\n1401 happened to be in the basement of our junior high school, and\\nmy friend Rich Draves and I got permission to use it. It was like\\na mini Bond villain\\'s lair down there, with all these alien-looking\\nmachines \\x97 CPU, disk drives, printer, card reader \\x97 sitting up\\non a raised floor under bright fluorescent lights.The language we used was an early version of Fortran. You had to\\ntype programs on punch cards, then stack them in the card reader\\nand press a button to load the program into memory and run it. The\\nresult would ordinarily be to print something on the spectacularly\\nloud printer.I was puzzled by the 1401. I couldn\\'t figure out what to do with\\nit. And in retrospect there\\'s not much I could have done with it.\\nThe only form of input to programs was data stored on punched cards,\\nand I didn\\'t have any data stored on punched cards. The only other\\noption was to do things that didn\\'t rely on any input, like calculate\\napproximations of pi, but I didn\\'t know enough math to do anything\\ninteresting of that type. So I\\'m not surprised I can\\'t remember any\\nprograms I wrote, because they can\\'t have done much. My clearest\\nmemory is of the moment I learned it was possible for programs not\\nto terminate, when one of mine didn\\'t. On a machine without\\ntime-sharing, this was a social as well as a technical error, as\\nthe data center manager\\'s expression made clear.With microcomputers, everything changed. Now you could have a\\ncomputer sitting right in front of you, on a desk, that could respond\\nto your keystrokes as it was running instead of just churning through\\na stack of punch cards and then stopping. \\n[1]The first of my friends to get a microcomputer built it himself.\\nIt was sold as a kit by Heathkit. I remember vividly how impressed\\nand envious I felt watching him sitting in front of it, typing\\nprograms right into the computer.Computers were expensive in those days and it took me years of\\nnagging before I convinced my father to buy one, a TRS-80, in about\\n1980. The gold standard then was the Apple II, but a TRS-80 was\\ngood enough. This was when I really started programming. I wrote\\nsimple games, a program to predict how high my model rockets would\\nfly, and a word processor that my father used to write at least one\\nbook. There was only room in memory for about 2 pages of text, so\\nhe\\'d write 2 pages at a time and then print them out, but it was a\\nlot better than a typewriter.Though I liked programming, I didn\\'t plan to study it in college.\\nIn college I was going to study philosophy, which sounded much more\\npowerful. It seemed, to my naive high school self, to be the study\\nof the ultimate truths, compared to which the things studied in\\nother fields would be mere domain knowledge. What I discovered when\\nI got to college was that the other fields took up so much of the\\nspace of ideas that there wasn\\'t much left for these supposed\\nultimate truths. All that seemed left for philosophy were edge cases\\nthat people in other fields felt could safely be ignored.I couldn\\'t have put this into words when I was 18. All I knew at\\nthe time was that I kept taking philosophy courses and they kept\\nbeing boring. So I decided to switch to AI.AI was in the air in the mid 1980s, but there were two things\\nespecially that made me want to work on it: a novel by Heinlein\\ncalled The Moon is a Harsh Mistress, which featured an intelligent\\ncomputer called Mike, and a PBS documentary that showed Terry\\nWinograd using SHRDLU. I haven\\'t tried rereading The Moon is a Harsh\\nMistress, so I don\\'t know how well it has aged, but when I read it\\nI was drawn entirely into its world. It seemed only a matter of\\ntime before we\\'d have Mike, and when I saw Winograd using SHRDLU,\\nit seemed like that time would be a few years at most. All you had\\nto do was teach SHRDLU more words.There weren\\'t any classes in AI at Cornell then, not even graduate\\nclasses, so I started trying to teach myself. Which meant learning\\nLisp, since in those days Lisp was regarded as the language of AI.\\nThe commonly used programming languages then were pretty primitive,\\nand programmers\\' ideas correspondingly so. The default language at\\nCornell was a Pascal-like language called PL/I, and the situation\\nwas similar elsewhere. Learning Lisp expanded my concept of a program\\nso fast that it was years before I started to have a sense of where\\nthe new limits were. This was more like it; this was what I had\\nexpected college to do. It wasn\\'t happening in a class, like it was\\nsupposed to, but that was ok. For the next couple years I was on a\\nroll. I knew what I was going to do.For my undergraduate thesis, I reverse-engineered SHRDLU. My God\\ndid I love working on that program. It was a pleasing bit of code,\\nbut what made it even more exciting was my belief \\x97 hard to imagine\\nnow, but not unique in 1985 \\x97 that it was already climbing the\\nlower slopes of intelligence.I had gotten into a program at Cornell that didn\\'t make you choose\\na major. You could take whatever classes you liked, and choose\\nwhatever you liked to put on your degree. I of course chose \"Artificial\\nIntelligence.\" When I got the actual physical diploma, I was dismayed\\nto find that the quotes had been included, which made them read as\\nscare-quotes. At the time this bothered me, but now it seems amusingly\\naccurate, for reasons I was about to discover.I applied to 3 grad schools: MIT and Yale, which were renowned for\\nAI at the time, and Harvard, which I\\'d visited because Rich Draves\\nwent there, and was also home to Bill Woods, who\\'d invented the\\ntype of parser I used in my SHRDLU clone. Only Harvard accepted me,\\nso that was where I went.I don\\'t remember the moment it happened, or if there even was a\\nspecific moment, but during the first year of grad school I realized\\nthat AI, as practiced at the time, was a hoax. By which I mean the\\nsort of AI in which a program that\\'s told \"the dog is sitting on\\nthe chair\" translates this into some formal representation and adds\\nit to the list of things it knows.What these programs really showed was that there\\'s a subset of\\nnatural language that\\'s a formal language. But a very proper subset.\\nIt was clear that there was an unbridgeable gap between what they\\ncould do and actually understanding natural language. It was not,\\nin fact, simply a matter of teaching SHRDLU more words. That whole\\nway of doing AI, with explicit data structures representing concepts,\\nwas not going to work. Its brokenness did, as so often happens,\\ngenerate a lot of opportunities to write papers about various\\nband-aids that could be applied to it, but it was never going to\\nget us Mike.So I looked around to see what I could salvage from the wreckage\\nof my plans, and there was Lisp. I knew from experience that Lisp\\nwas interesting for its own sake and not just for its association\\nwith AI, even though that was the main reason people cared about\\nit at the time. So I decided to focus on Lisp. In fact, I decided\\nto write a book about Lisp hacking. It\\'s scary to think how little\\nI knew about Lisp hacking when I started writing that book. But\\nthere\\'s nothing like writing a book about something to help you\\nlearn it. The book, On Lisp, wasn\\'t published till 1993, but I wrote\\nmuch of it in grad school.Computer Science is an uneasy alliance between two halves, theory\\nand systems. The theory people prove things, and the systems people\\nbuild things. I wanted to build things. I had plenty of respect for\\ntheory \\x97 indeed, a sneaking suspicion that it was the more admirable\\nof the two halves \\x97 but building things seemed so much more exciting.The problem with systems work, though, was that it didn\\'t last.\\nAny program you wrote today, no matter how good, would be obsolete\\nin a couple decades at best. People might mention your software in\\nfootnotes, but no one would actually use it. And indeed, it would\\nseem very feeble work. Only people with a sense of the history of\\nthe field would even realize that, in its time, it had been good.There were some surplus Xerox Dandelions floating around the computer\\nlab at one point. Anyone who wanted one to play around with could\\nhave one. I was briefly tempted, but they were so slow by present\\nstandards; what was the point? No one else wanted one either, so\\noff they went. That was what happened to systems work.I wanted not just to build things, but to build things that would\\nlast.In this dissatisfied state I went in 1988 to visit Rich Draves at\\nCMU, where he was in grad school. One day I went to visit the\\nCarnegie Institute, where I\\'d spent a lot of time as a kid. While\\nlooking at a painting there I realized something that might seem\\nobvious, but was a big surprise to me. There, right on the wall,\\nwas something you could make that would last. Paintings didn\\'t\\nbecome obsolete. Some of the best ones were hundreds of years old.And moreover this was something you could make a living doing. Not\\nas easily as you could by writing software, of course, but I thought\\nif you were really industrious and lived really cheaply, it had to\\nbe possible to make enough to survive. And as an artist you could\\nbe truly independent. You wouldn\\'t have a boss, or even need to get\\nresearch funding.I had always liked looking at paintings. Could I make them? I had\\nno idea. I\\'d never imagined it was even possible. I knew intellectually\\nthat people made art \\x97 that it didn\\'t just appear spontaneously\\n\\x97 but it was as if the people who made it were a different species.\\nThey either lived long ago or were mysterious geniuses doing strange\\nthings in profiles in Life magazine. The idea of actually being\\nable to make art, to put that verb before that noun, seemed almost\\nmiraculous.That fall I started taking art classes at Harvard. Grad students\\ncould take classes in any department, and my advisor, Tom Cheatham,\\nwas very easy going. If he even knew about the strange classes I\\nwas taking, he never said anything.So now I was in a PhD program in computer science, yet planning to\\nbe an artist, yet also genuinely in love with Lisp hacking and\\nworking away at On Lisp. In other words, like many a grad student,\\nI was working energetically on multiple projects that were not my\\nthesis.I didn\\'t see a way out of this situation. I didn\\'t want to drop out\\nof grad school, but how else was I going to get out? I remember\\nwhen my friend Robert Morris got kicked out of Cornell for writing\\nthe internet worm of 1988, I was envious that he\\'d found such a\\nspectacular way to get out of grad school.Then one day in April 1990 a crack appeared in the wall. I ran into\\nprofessor Cheatham and he asked if I was far enough along to graduate\\nthat June. I didn\\'t have a word of my dissertation written, but in\\nwhat must have been the quickest bit of thinking in my life, I\\ndecided to take a shot at writing one in the 5 weeks or so that\\nremained before the deadline, reusing parts of On Lisp where I\\ncould, and I was able to respond, with no perceptible delay \"Yes,\\nI think so. I\\'ll give you something to read in a few days.\"I picked applications of continuations as the topic. In retrospect\\nI should have written about macros and embedded languages. There\\'s\\na whole world there that\\'s barely been explored. But all I wanted\\nwas to get out of grad school, and my rapidly written dissertation\\nsufficed, just barely.Meanwhile I was applying to art schools. I applied to two: RISD in\\nthe US, and the Accademia di Belli Arti in Florence, which, because\\nit was the oldest art school, I imagined would be good. RISD accepted\\nme, and I never heard back from the Accademia, so off to Providence\\nI went.I\\'d applied for the BFA program at RISD, which meant in effect that\\nI had to go to college again. This was not as strange as it sounds,\\nbecause I was only 25, and art schools are full of people of different\\nages. RISD counted me as a transfer sophomore and said I had to do\\nthe foundation that summer. The foundation means the classes that\\neveryone has to take in fundamental subjects like drawing, color,\\nand design.Toward the end of the summer I got a big surprise: a letter from\\nthe Accademia, which had been delayed because they\\'d sent it to\\nCambridge England instead of Cambridge Massachusetts, inviting me\\nto take the entrance exam in Florence that fall. This was now only\\nweeks away. My nice landlady let me leave my stuff in her attic. I\\nhad some money saved from consulting work I\\'d done in grad school;\\nthere was probably enough to last a year if I lived cheaply. Now\\nall I had to do was learn Italian.Only stranieri (foreigners) had to take this entrance exam. In\\nretrospect it may well have been a way of excluding them, because\\nthere were so many stranieri attracted by the idea of studying\\nart in Florence that the Italian students would otherwise have been\\noutnumbered. I was in decent shape at painting and drawing from the\\nRISD foundation that summer, but I still don\\'t know how I managed\\nto pass the written exam. I remember that I answered the essay\\nquestion by writing about Cezanne, and that I cranked up the\\nintellectual level as high as I could to make the most of my limited\\nvocabulary. \\n[2]I\\'m only up to age 25 and already there are such conspicuous patterns.\\nHere I was, yet again about to attend some august institution in\\nthe hopes of learning about some prestigious subject, and yet again\\nabout to be disappointed. The students and faculty in the painting\\ndepartment at the Accademia were the nicest people you could imagine,\\nbut they had long since arrived at an arrangement whereby the\\nstudents wouldn\\'t require the faculty to teach anything, and in\\nreturn the faculty wouldn\\'t require the students to learn anything.\\nAnd at the same time all involved would adhere outwardly to the\\nconventions of a 19th century atelier. We actually had one of those\\nlittle stoves, fed with kindling, that you see in 19th century\\nstudio paintings, and a nude model sitting as close to it as possible\\nwithout getting burned. Except hardly anyone else painted her besides\\nme. The rest of the students spent their time chatting or occasionally\\ntrying to imitate things they\\'d seen in American art magazines.Our model turned out to live just down the street from me. She made\\na living from a combination of modelling and making fakes for a\\nlocal antique dealer. She\\'d copy an obscure old painting out of a\\nbook, and then he\\'d take the copy and maltreat it to make it look\\nold. \\n[3]While I was a student at the Accademia I started painting still\\nlives in my bedroom at night. These paintings were tiny, because\\nthe room was, and because I painted them on leftover scraps of\\ncanvas, which was all I could afford at the time. Painting still\\nlives is different from painting people, because the subject, as\\nits name suggests, can\\'t move. People can\\'t sit for more than about\\n15 minutes at a time, and when they do they don\\'t sit very still.\\nSo the traditional m.o. for painting people is to know how to paint\\na generic person, which you then modify to match the specific person\\nyou\\'re painting. Whereas a still life you can, if you want, copy\\npixel by pixel from what you\\'re seeing. You don\\'t want to stop\\nthere, of course, or you get merely photographic accuracy, and what\\nmakes a still life interesting is that it\\'s been through a head.\\nYou want to emphasize the visual cues that tell you, for example,\\nthat the reason the color changes suddenly at a certain point is\\nthat it\\'s the edge of an object. By subtly emphasizing such things\\nyou can make paintings that are more realistic than photographs not\\njust in some metaphorical sense, but in the strict information-theoretic\\nsense. \\n[4]I liked painting still lives because I was curious about what I was\\nseeing. In everyday life, we aren\\'t consciously aware of much we\\'re\\nseeing. Most visual perception is handled by low-level processes\\nthat merely tell your brain \"that\\'s a water droplet\" without telling\\nyou details like where the lightest and darkest points are, or\\n\"that\\'s a bush\" without telling you the shape and position of every\\nleaf. This is a feature of brains, not a bug. In everyday life it\\nwould be distracting to notice every leaf on every bush. But when\\nyou have to paint something, you have to look more closely, and\\nwhen you do there\\'s a lot to see. You can still be noticing new\\nthings after days of trying to paint something people usually take\\nfor granted, just as you can  after\\ndays of trying to write an essay about something people usually\\ntake for granted.This is not the only way to paint. I\\'m not 100% sure it\\'s even a\\ngood way to paint. But it seemed a good enough bet to be worth\\ntrying.Our teacher, professor Ulivi, was a nice guy. He could see I worked\\nhard, and gave me a good grade, which he wrote down in a sort of\\npassport each student had. But the Accademia wasn\\'t teaching me\\nanything except Italian, and my money was running out, so at the\\nend of the first year I went back to the US.I wanted to go back to RISD, but I was now broke and RISD was very\\nexpensive, so I decided to get a job for a year and then return to\\nRISD the next fall. I got one at a company called Interleaf, which\\nmade software for creating documents. You mean like Microsoft Word?\\nExactly. That was how I learned that low end software tends to eat\\nhigh end software. But Interleaf still had a few years to live yet.\\n[5]Interleaf had done something pretty bold. Inspired by Emacs, they\\'d\\nadded a scripting language, and even made the scripting language a\\ndialect of Lisp. Now they wanted a Lisp hacker to write things in\\nit. This was the closest thing I\\'ve had to a normal job, and I\\nhereby apologize to my boss and coworkers, because I was a bad\\nemployee. Their Lisp was the thinnest icing on a giant C cake, and\\nsince I didn\\'t know C and didn\\'t want to learn it, I never understood\\nmost of the software. Plus I was terribly irresponsible. This was\\nback when a programming job meant showing up every day during certain\\nworking hours. That seemed unnatural to me, and on this point the\\nrest of the world is coming around to my way of thinking, but at\\nthe time it caused a lot of friction. Toward the end of the year I\\nspent much of my time surreptitiously working on On Lisp, which I\\nhad by this time gotten a contract to publish.The good part was that I got paid huge amounts of money, especially\\nby art student standards. In Florence, after paying my part of the\\nrent, my budget for everything else had been $7 a day. Now I was\\ngetting paid more than 4 times that every hour, even when I was\\njust sitting in a meeting. By living cheaply I not only managed to\\nsave enough to go back to RISD, but also paid off my college loans.I learned some useful things at Interleaf, though they were mostly\\nabout what not to do. I learned that it\\'s better for technology\\ncompanies to be run by product people than sales people (though\\nsales is a real skill and people who are good at it are really good\\nat it), that it leads to bugs when code is edited by too many people,\\nthat cheap office space is no bargain if it\\'s depressing, that\\nplanned meetings are inferior to corridor conversations, that big,\\nbureaucratic customers are a dangerous source of money, and that\\nthere\\'s not much overlap between conventional office hours and the\\noptimal time for hacking, or conventional offices and the optimal\\nplace for it.But the most important thing I learned, and which I used in both\\nViaweb and Y Combinator, is that the low end eats the high end:\\nthat it\\'s good to be the \"entry level\" option, even though that\\nwill be less prestigious, because if you\\'re not, someone else will\\nbe, and will squash you against the ceiling. Which in turn means\\nthat prestige is a danger sign.When I left to go back to RISD the next fall, I arranged to do\\nfreelance work for the group that did projects for customers, and\\nthis was how I survived for the next several years. When I came\\nback to visit for a project later on, someone told me about a new\\nthing called HTML, which was, as he described it, a derivative of\\nSGML. Markup language enthusiasts were an occupational hazard at\\nInterleaf and I ignored him, but this HTML thing later became a big\\npart of my life.In the fall of 1992 I moved back to Providence to continue at RISD.\\nThe foundation had merely been intro stuff, and the Accademia had\\nbeen a (very civilized) joke. Now I was going to see what real art\\nschool was like. But alas it was more like the Accademia than not.\\nBetter organized, certainly, and a lot more expensive, but it was\\nnow becoming clear that art school did not bear the same relationship\\nto art that medical school bore to medicine. At least not the\\npainting department. The textile department, which my next door\\nneighbor belonged to, seemed to be pretty rigorous. No doubt\\nillustration and architecture were too. But painting was post-rigorous.\\nPainting students were supposed to express themselves, which to the\\nmore worldly ones meant to try to cook up some sort of distinctive\\nsignature style.A signature style is the visual equivalent of what in show business\\nis known as a \"schtick\": something that immediately identifies the\\nwork as yours and no one else\\'s. For example, when you see a painting\\nthat looks like a certain kind of cartoon, you know it\\'s by Roy\\nLichtenstein. So if you see a big painting of this type hanging in\\nthe apartment of a hedge fund manager, you know he paid millions\\nof dollars for it. That\\'s not always why artists have a signature\\nstyle, but it\\'s usually why buyers pay a lot for such work.\\n[6]There were plenty of earnest students too: kids who \"could draw\"\\nin high school, and now had come to what was supposed to be the\\nbest art school in the country, to learn to draw even better. They\\ntended to be confused and demoralized by what they found at RISD,\\nbut they kept going, because painting was what they did. I was not\\none of the kids who could draw in high school, but at RISD I was\\ndefinitely closer to their tribe than the tribe of signature style\\nseekers.I learned a lot in the color class I took at RISD, but otherwise I\\nwas basically teaching myself to paint, and I could do that for\\nfree. So in 1993 I dropped out. I hung around Providence for a bit,\\nand then my college friend Nancy Parmet did me a big favor. A\\nrent-controlled apartment in a building her mother owned in New\\nYork was becoming vacant. Did I want it? It wasn\\'t much more than\\nmy current place, and New York was supposed to be where the artists\\nwere. So yes, I wanted it!\\n[7]Asterix comics begin by zooming in on a tiny corner of Roman Gaul\\nthat turns out not to be controlled by the Romans. You can do\\nsomething similar on a map of New York City: if you zoom in on the\\nUpper East Side, there\\'s a tiny corner that\\'s not rich, or at least\\nwasn\\'t in 1993. It\\'s called Yorkville, and that was my new home.\\nNow I was a New York artist \\x97 in the strictly technical sense of\\nmaking paintings and living in New York.I was nervous about money, because I could sense that Interleaf was\\non the way down. Freelance Lisp hacking work was very rare, and I\\ndidn\\'t want to have to program in another language, which in those\\ndays would have meant C++ if I was lucky. So with my unerring nose\\nfor financial opportunity, I decided to write another book on Lisp.\\nThis would be a popular book, the sort of book that could be used\\nas a textbook. I imagined myself living frugally off the royalties\\nand spending all my time painting. (The painting on the cover of\\nthis book, ANSI Common Lisp, is one that I painted around this\\ntime.)The best thing about New York for me was the presence of Idelle and\\nJulian Weber. Idelle Weber was a painter, one of the early\\nphotorealists, and I\\'d taken her painting class at Harvard. I\\'ve\\nnever known a teacher more beloved by her students. Large numbers\\nof former students kept in touch with her, including me. After I\\nmoved to New York I became her de facto studio assistant.She liked to paint on big, square canvases, 4 to 5 feet on a side.\\nOne day in late 1994 as I was stretching one of these monsters there\\nwas something on the radio about a famous fund manager. He wasn\\'t\\nthat much older than me, and was super rich. The thought suddenly\\noccurred to me: why don\\'t I become rich? Then I\\'ll be able to work\\non whatever I want.Meanwhile I\\'d been hearing more and more about this new thing called\\nthe World Wide Web. Robert Morris showed it to me when I visited\\nhim in Cambridge, where he was now in grad school at Harvard. It\\nseemed to me that the web would be a big deal. I\\'d seen what graphical\\nuser interfaces had done for the popularity of microcomputers. It\\nseemed like the web would do the same for the internet.If I wanted to get rich, here was the next train leaving the station.\\nI was right about that part. What I got wrong was the idea. I decided\\nwe should start a company to put art galleries online. I can\\'t\\nhonestly say, after reading so many Y Combinator applications, that\\nthis was the worst startup idea ever, but it was up there. Art\\ngalleries didn\\'t want to be online, and still don\\'t, not the fancy\\nones. That\\'s not how they sell. I wrote some software to generate\\nweb sites for galleries, and Robert wrote some to resize images and\\nset up an http server to serve the pages. Then we tried to sign up\\ngalleries. To call this a difficult sale would be an understatement.\\nIt was difficult to give away. A few galleries let us make sites\\nfor them for free, but none paid us.Then some online stores started to appear, and I realized that\\nexcept for the order buttons they were identical to the sites we\\'d\\nbeen generating for galleries. This impressive-sounding thing called\\nan \"internet storefront\" was something we already knew how to build.So in the summer of 1995, after I submitted the camera-ready copy\\nof ANSI Common Lisp to the publishers, we started trying to write\\nsoftware to build online stores. At first this was going to be\\nnormal desktop software, which in those days meant Windows software.\\nThat was an alarming prospect, because neither of us knew how to\\nwrite Windows software or wanted to learn. We lived in the Unix\\nworld. But we decided we\\'d at least try writing a prototype store\\nbuilder on Unix. Robert wrote a shopping cart, and I wrote a new\\nsite generator for stores \\x97 in Lisp, of course.We were working out of Robert\\'s apartment in Cambridge. His roommate\\nwas away for big chunks of time, during which I got to sleep in his\\nroom. For some reason there was no bed frame or sheets, just a\\nmattress on the floor. One morning as I was lying on this mattress\\nI had an idea that made me sit up like a capital L. What if we ran\\nthe software on the server, and let users control it by clicking\\non links? Then we\\'d never have to write anything to run on users\\'\\ncomputers. We could generate the sites on the same server we\\'d serve\\nthem from. Users wouldn\\'t need anything more than a browser.This kind of software, known as a web app, is common now, but at\\nthe time it wasn\\'t clear that it was even possible. To find out,\\nwe decided to try making a version of our store builder that you\\ncould control through the browser. A couple days later, on August\\n12, we had one that worked. The UI was horrible, but it proved you\\ncould build a whole store through the browser, without any client\\nsoftware or typing anything into the command line on the server.Now we felt like we were really onto something. I had visions of a\\nwhole new generation of software working this way. You wouldn\\'t\\nneed versions, or ports, or any of that crap. At Interleaf there\\nhad been a whole group called Release Engineering that seemed to\\nbe at least as big as the group that actually wrote the software.\\nNow you could just update the software right on the server.We started a new company we called Viaweb, after the fact that our\\nsoftware worked via the web, and we got $10,000 in seed funding\\nfrom Idelle\\'s husband Julian. In return for that and doing the\\ninitial legal work and giving us business advice, we gave him 10%\\nof the company. Ten years later this deal became the model for Y\\nCombinator\\'s. We knew founders needed something like this, because\\nwe\\'d needed it ourselves.At this stage I had a negative net worth, because the thousand\\ndollars or so I had in the bank was more than counterbalanced by\\nwhat I owed the government in taxes. (Had I diligently set aside\\nthe proper proportion of the money I\\'d made consulting for Interleaf?\\nNo, I had not.) So although Robert had his graduate student stipend,\\nI needed that seed funding to live on.We originally hoped to launch in September, but we got more ambitious\\nabout the software as we worked on it. Eventually we managed to\\nbuild a WYSIWYG site builder, in the sense that as you were creating\\npages, they looked exactly like the static ones that would be\\ngenerated later, except that instead of leading to static pages,\\nthe links all referred to closures stored in a hash table on the\\nserver.It helped to have studied art, because the main goal of an online\\nstore builder is to make users look legit, and the key to looking\\nlegit is high production values. If you get page layouts and fonts\\nand colors right, you can make a guy running a store out of his\\nbedroom look more legit than a big company.(If you\\'re curious why my site looks so old-fashioned, it\\'s because\\nit\\'s still made with this software. It may look clunky today, but\\nin 1996 it was the last word in slick.)In September, Robert rebelled. \"We\\'ve been working on this for a\\nmonth,\" he said, \"and it\\'s still not done.\" This is funny in\\nretrospect, because he would still be working on it almost 3 years\\nlater. But I decided it might be prudent to recruit more programmers,\\nand I asked Robert who else in grad school with him was really good.\\nHe recommended Trevor Blackwell, which surprised me at first, because\\nat that point I knew Trevor mainly for his plan to reduce everything\\nin his life to a stack of notecards, which he carried around with\\nhim. But Rtm was right, as usual. Trevor turned out to be a\\nfrighteningly effective hacker.It was a lot of fun working with Robert and Trevor. They\\'re the two\\nmost independent-minded people \\nI know, and in completely different\\nways. If you could see inside Rtm\\'s brain it would look like a\\ncolonial New England church, and if you could see inside Trevor\\'s\\nit would look like the worst excesses of Austrian Rococo.We opened for business, with 6 stores, in January 1996. It was just\\nas well we waited a few months, because although we worried we were\\nlate, we were actually almost fatally early. There was a lot of\\ntalk in the press then about ecommerce, but not many people actually\\nwanted online stores.\\n[8]There were three main parts to the software: the editor, which\\npeople used to build sites and which I wrote, the shopping cart,\\nwhich Robert wrote, and the manager, which kept track of orders and\\nstatistics, and which Trevor wrote. In its time, the editor was one\\nof the best general-purpose site builders. I kept the code tight\\nand didn\\'t have to integrate with any other software except Robert\\'s\\nand Trevor\\'s, so it was quite fun to work on. If all I\\'d had to do\\nwas work on this software, the next 3 years would have been the\\neasiest of my life. Unfortunately I had to do a lot more, all of\\nit stuff I was worse at than programming, and the next 3 years were\\ninstead the most stressful.There were a lot of startups making ecommerce software in the second\\nhalf of the 90s. We were determined to be the Microsoft Word, not\\nthe Interleaf. Which meant being easy to use and inexpensive. It\\nwas lucky for us that we were poor, because that caused us to make\\nViaweb even more inexpensive than we realized. We charged $100 a\\nmonth for a small store and $300 a month for a big one. This low\\nprice was a big attraction, and a constant thorn in the sides of\\ncompetitors, but it wasn\\'t because of some clever insight that we\\nset the price low. We had no idea what businesses paid for things.\\n$300 a month seemed like a lot of money to us.We did a lot of things right by accident like that. For example,\\nwe did what\\'s now called \"doing things that \\ndon\\'t scale,\" although\\nat the time we would have described it as \"being so lame that we\\'re\\ndriven to the most desperate measures to get users.\" The most common\\nof which was building stores for them. This seemed particularly\\nhumiliating, since the whole raison d\\'etre of our software was that\\npeople could use it to make their own stores. But anything to get\\nusers.We learned a lot more about retail than we wanted to know. For\\nexample, that if you could only have a small image of a man\\'s shirt\\n(and all images were small then by present standards), it was better\\nto have a closeup of the collar than a picture of the whole shirt.\\nThe reason I remember learning this was that it meant I had to\\nrescan about 30 images of men\\'s shirts. My first set of scans were\\nso beautiful too.Though this felt wrong, it was exactly the right thing to be doing.\\nBuilding stores for users taught us about retail, and about how it\\nfelt to use our software. I was initially both mystified and repelled\\nby \"business\" and thought we needed a \"business person\" to be in\\ncharge of it, but once we started to get users, I was converted,\\nin much the same way I was converted to \\nfatherhood once I had kids.\\nWhatever users wanted, I was all theirs. Maybe one day we\\'d have\\nso many users that I couldn\\'t scan their images for them, but in\\nthe meantime there was nothing more important to do.Another thing I didn\\'t get at the time is that \\ngrowth rate is the\\nultimate test of a startup. Our growth rate was fine. We had about\\n70 stores at the end of 1996 and about 500 at the end of 1997. I\\nmistakenly thought the thing that mattered was the absolute number\\nof users. And that is the thing that matters in the sense that\\nthat\\'s how much money you\\'re making, and if you\\'re not making enough,\\nyou might go out of business. But in the long term the growth rate\\ntakes care of the absolute number. If we\\'d been a startup I was\\nadvising at Y Combinator, I would have said: Stop being so stressed\\nout, because you\\'re doing fine. You\\'re growing 7x a year. Just don\\'t\\nhire too many more people and you\\'ll soon be profitable, and then\\nyou\\'ll control your own destiny.Alas I hired lots more people, partly because our investors wanted\\nme to, and partly because that\\'s what startups did during the\\nInternet Bubble. A company with just a handful of employees would\\nhave seemed amateurish. So we didn\\'t reach breakeven until about\\nwhen Yahoo bought us in the summer of 1998. Which in turn meant we\\nwere at the mercy of investors for the entire life of the company.\\nAnd since both we and our investors were noobs at startups, the\\nresult was a mess even by startup standards.It was a huge relief when Yahoo bought us. In principle our Viaweb\\nstock was valuable. It was a share in a business that was profitable\\nand growing rapidly. But it didn\\'t feel very valuable to me; I had\\nno idea how to value a business, but I was all too keenly aware of\\nthe near-death experiences we seemed to have every few months. Nor\\nhad I changed my grad student lifestyle significantly since we\\nstarted. So when Yahoo bought us it felt like going from rags to\\nriches. Since we were going to California, I bought a car, a yellow\\n1998 VW GTI. I remember thinking that its leather seats alone were\\nby far the most luxurious thing I owned.The next year, from the summer of 1998 to the summer of 1999, must\\nhave been the least productive of my life. I didn\\'t realize it at\\nthe time, but I was worn out from the effort and stress of running\\nViaweb. For a while after I got to California I tried to continue\\nmy usual m.o. of programming till 3 in the morning, but fatigue\\ncombined with Yahoo\\'s prematurely aged\\nculture and grim cube farm\\nin Santa Clara gradually dragged me down. After a few months it\\nfelt disconcertingly like working at Interleaf.Yahoo had given us a lot of options when they bought us. At the\\ntime I thought Yahoo was so overvalued that they\\'d never be worth\\nanything, but to my astonishment the stock went up 5x in the next\\nyear. I hung on till the first chunk of options vested, then in the\\nsummer of 1999 I left. It had been so long since I\\'d painted anything\\nthat I\\'d half forgotten why I was doing this. My brain had been\\nentirely full of software and men\\'s shirts for 4 years. But I had\\ndone this to get rich so I could paint, I reminded myself, and now\\nI was rich, so I should go paint.When I said I was leaving, my boss at Yahoo had a long conversation\\nwith me about my plans. I told him all about the kinds of pictures\\nI wanted to paint. At the time I was touched that he took such an\\ninterest in me. Now I realize it was because he thought I was lying.\\nMy options at that point were worth about $2 million a month. If I\\nwas leaving that kind of money on the table, it could only be to\\ngo and start some new startup, and if I did, I might take people\\nwith me. This was the height of the Internet Bubble, and Yahoo was\\nground zero of it. My boss was at that moment a billionaire. Leaving\\nthen to start a new startup must have seemed to him an insanely,\\nand yet also plausibly, ambitious plan.But I really was quitting to paint, and I started immediately.\\nThere was no time to lose. I\\'d already burned 4 years getting rich.\\nNow when I talk to founders who are leaving after selling their\\ncompanies, my advice is always the same: take a vacation. That\\'s\\nwhat I should have done, just gone off somewhere and done nothing\\nfor a month or two, but the idea never occurred to me.So I tried to paint, but I just didn\\'t seem to have any energy or\\nambition. Part of the problem was that I didn\\'t know many people\\nin California. I\\'d compounded this problem by buying a house up in\\nthe Santa Cruz Mountains, with a beautiful view but miles from\\nanywhere. I stuck it out for a few more months, then in desperation\\nI went back to New York, where unless you understand about rent\\ncontrol you\\'ll be surprised to hear I still had my apartment, sealed\\nup like a tomb of my old life. Idelle was in New York at least, and\\nthere were other people trying to paint there, even though I didn\\'t\\nknow any of them.When I got back to New York I resumed my old life, except now I was\\nrich. It was as weird as it sounds. I resumed all my old patterns,\\nexcept now there were doors where there hadn\\'t been. Now when I was\\ntired of walking, all I had to do was raise my hand, and (unless\\nit was raining) a taxi would stop to pick me up. Now when I walked\\npast charming little restaurants I could go in and order lunch. It\\nwas exciting for a while. Painting started to go better. I experimented\\nwith a new kind of still life where I\\'d paint one painting in the\\nold way, then photograph it and print it, blown up, on canvas, and\\nthen use that as the underpainting for a second still life, painted\\nfrom the same objects (which hopefully hadn\\'t rotted yet).Meanwhile I looked for an apartment to buy. Now I could actually\\nchoose what neighborhood to live in. Where, I asked myself and\\nvarious real estate agents, is the Cambridge of New York? Aided by\\noccasional visits to actual Cambridge, I gradually realized there\\nwasn\\'t one. Huh.Around this time, in the spring of 2000, I had an idea. It was clear\\nfrom our experience with Viaweb that web apps were the future. Why\\nnot build a web app for making web apps? Why not let people edit\\ncode on our server through the browser, and then host the resulting\\napplications for them?\\n[9]\\nYou could run all sorts of services\\non the servers that these applications could use just by making an\\nAPI call: making and receiving phone calls, manipulating images,\\ntaking credit card payments, etc.I got so excited about this idea that I couldn\\'t think about anything\\nelse. It seemed obvious that this was the future. I didn\\'t particularly\\nwant to start another company, but it was clear that this idea would\\nhave to be embodied as one, so I decided to move to Cambridge and\\nstart it. I hoped to lure Robert into working on it with me, but\\nthere I ran into a hitch. Robert was now a postdoc at MIT, and\\nthough he\\'d made a lot of money the last time I\\'d lured him into\\nworking on one of my schemes, it had also been a huge time sink.\\nSo while he agreed that it sounded like a plausible idea, he firmly\\nrefused to work on it.Hmph. Well, I\\'d do it myself then. I recruited Dan Giffin, who had\\nworked for Viaweb, and two undergrads who wanted summer jobs, and\\nwe got to work trying to build what it\\'s now clear is about twenty\\ncompanies and several open source projects worth of software. The\\nlanguage for defining applications would of course be a dialect of\\nLisp. But I wasn\\'t so naive as to assume I could spring an overt\\nLisp on a general audience; we\\'d hide the parentheses, like Dylan\\ndid.By then there was a name for the kind of company Viaweb was, an\\n\"application service provider,\" or ASP. This name didn\\'t last long\\nbefore it was replaced by \"software as a service,\" but it was current\\nfor long enough that I named this new company after it: it was going\\nto be called Aspra.I started working on the application builder, Dan worked on network\\ninfrastructure, and the two undergrads worked on the first two\\nservices (images and phone calls). But about halfway through the\\nsummer I realized I really didn\\'t want to run a company \\x97 especially\\nnot a big one, which it was looking like this would have to be. I\\'d\\nonly started Viaweb because I needed the money. Now that I didn\\'t\\nneed money anymore, why was I doing this? If this vision had to be\\nrealized as a company, then screw the vision. I\\'d build a subset\\nthat could be done as an open source project.Much to my surprise, the time I spent working on this stuff was not\\nwasted after all. After we started Y Combinator, I would often\\nencounter startups working on parts of this new architecture, and\\nit was very useful to have spent so much time thinking about it and\\neven trying to write some of it.The subset I would build as an open source project was the new Lisp,\\nwhose parentheses I now wouldn\\'t even have to hide. A lot of Lisp\\nhackers dream of building a new Lisp, partly because one of the\\ndistinctive features of the language is that it has dialects, and\\npartly, I think, because we have in our minds a Platonic form of\\nLisp that all existing dialects fall short of. I certainly did. So\\nat the end of the summer Dan and I switched to working on this new\\ndialect of Lisp, which I called Arc, in a house I bought in Cambridge.The following spring, lightning struck. I was invited to give a\\ntalk at a Lisp conference, so I gave one about how we\\'d used Lisp\\nat Viaweb. Afterward I put a postscript file of this talk online,\\non paulgraham.com, which I\\'d created years before using Viaweb but\\nhad never used for anything. In one day it got 30,000 page views.\\nWhat on earth had happened? The referring urls showed that someone\\nhad posted it on Slashdot.\\n[10]Wow, I thought, there\\'s an audience. If I write something and put\\nit on the web, anyone can read it. That may seem obvious now, but\\nit was surprising then. In the print era there was a narrow channel\\nto readers, guarded by fierce monsters known as editors. The only\\nway to get an audience for anything you wrote was to get it published\\nas a book, or in a newspaper or magazine. Now anyone could publish\\nanything.This had been possible in principle since 1993, but not many people\\nhad realized it yet. I had been intimately involved with building\\nthe infrastructure of the web for most of that time, and a writer\\nas well, and it had taken me 8 years to realize it. Even then it\\ntook me several years to understand the implications. It meant there\\nwould be a whole new generation of \\nessays.\\n[11]In the print era, the channel for publishing essays had been\\nvanishingly small. Except for a few officially anointed thinkers\\nwho went to the right parties in New York, the only people allowed\\nto publish essays were specialists writing about their specialties.\\nThere were so many essays that had never been written, because there\\nhad been no way to publish them. Now they could be, and I was going\\nto write them.\\n[12]I\\'ve worked on several different things, but to the extent there\\nwas a turning point where I figured out what to work on, it was\\nwhen I started publishing essays online. From then on I knew that\\nwhatever else I did, I\\'d always write essays too.I knew that online essays would be a \\nmarginal medium at first.\\nSocially they\\'d seem more like rants posted by nutjobs on their\\nGeoCities sites than the genteel and beautifully typeset compositions\\npublished in The New Yorker. But by this point I knew enough to\\nfind that encouraging instead of discouraging.One of the most conspicuous patterns I\\'ve noticed in my life is how\\nwell it has worked, for me at least, to work on things that weren\\'t\\nprestigious. Still life has always been the least prestigious form\\nof painting. Viaweb and Y Combinator both seemed lame when we started\\nthem. I still get the glassy eye from strangers when they ask what\\nI\\'m writing, and I explain that it\\'s an essay I\\'m going to publish\\non my web site. Even Lisp, though prestigious intellectually in\\nsomething like the way Latin is, also seems about as hip.It\\'s not that unprestigious types of work are good per se. But when\\nyou find yourself drawn to some kind of work despite its current\\nlack of prestige, it\\'s a sign both that there\\'s something real to\\nbe discovered there, and that you have the right kind of motives.\\nImpure motives are a big danger for the ambitious. If anything is\\ngoing to lead you astray, it will be the desire to impress people.\\nSo while working on things that aren\\'t prestigious doesn\\'t guarantee\\nyou\\'re on the right track, it at least guarantees you\\'re not on the\\nmost common type of wrong one.Over the next several years I wrote lots of essays about all kinds\\nof different topics. O\\'Reilly reprinted a collection of them as a\\nbook, called Hackers & Painters after one of the essays in it. I\\nalso worked on spam filters, and did some more painting. I used to\\nhave dinners for a group of friends every thursday night, which\\ntaught me how to cook for groups. And I bought another building in\\nCambridge, a former candy factory (and later, twas said, porn\\nstudio), to use as an office.One night in October 2003 there was a big party at my house. It was\\na clever idea of my friend Maria Daniels, who was one of the thursday\\ndiners. Three separate hosts would all invite their friends to one\\nparty. So for every guest, two thirds of the other guests would be\\npeople they didn\\'t know but would probably like. One of the guests\\nwas someone I didn\\'t know but would turn out to like a lot: a woman\\ncalled Jessica Livingston. A couple days later I asked her out.Jessica was in charge of marketing at a Boston investment bank.\\nThis bank thought it understood startups, but over the next year,\\nas she met friends of mine from the startup world, she was surprised\\nhow different reality was. And how colorful their stories were. So\\nshe decided to compile a book of \\ninterviews with startup founders.When the bank had financial problems and she had to fire half her\\nstaff, she started looking for a new job. In early 2005 she interviewed\\nfor a marketing job at a Boston VC firm. It took them weeks to make\\nup their minds, and during this time I started telling her about\\nall the things that needed to be fixed about venture capital. They\\nshould make a larger number of smaller investments instead of a\\nhandful of giant ones, they should be funding younger, more technical\\nfounders instead of MBAs, they should let the founders remain as\\nCEO, and so on.One of my tricks for writing essays had always been to give talks.\\nThe prospect of having to stand up in front of a group of people\\nand tell them something that won\\'t waste their time is a great\\nspur to the imagination. When the Harvard Computer Society, the\\nundergrad computer club, asked me to give a talk, I decided I would\\ntell them how to start a startup. Maybe they\\'d be able to avoid the\\nworst of the mistakes we\\'d made.So I gave this talk, in the course of which I told them that the\\nbest sources of seed funding were successful startup founders,\\nbecause then they\\'d be sources of advice too. Whereupon it seemed\\nthey were all looking expectantly at me. Horrified at the prospect\\nof having my inbox flooded by business plans (if I\\'d only known),\\nI blurted out \"But not me!\" and went on with the talk. But afterward\\nit occurred to me that I should really stop procrastinating about\\nangel investing. I\\'d been meaning to since Yahoo bought us, and now\\nit was 7 years later and I still hadn\\'t done one angel investment.Meanwhile I had been scheming with Robert and Trevor about projects\\nwe could work on together. I missed working with them, and it seemed\\nlike there had to be something we could collaborate on.As Jessica and I were walking home from dinner on March 11, at the\\ncorner of Garden and Walker streets, these three threads converged.\\nScrew the VCs who were taking so long to make up their minds. We\\'d\\nstart our own investment firm and actually implement the ideas we\\'d\\nbeen talking about. I\\'d fund it, and Jessica could quit her job and\\nwork for it, and we\\'d get Robert and Trevor as partners too.\\n[13]Once again, ignorance worked in our favor. We had no idea how to\\nbe angel investors, and in Boston in 2005 there were no Ron Conways\\nto learn from. So we just made what seemed like the obvious choices,\\nand some of the things we did turned out to be novel.There are multiple components to Y Combinator, and we didn\\'t figure\\nthem all out at once. The part we got first was to be an angel firm.\\nIn those days, those two words didn\\'t go together. There were VC\\nfirms, which were organized companies with people whose job it was\\nto make investments, but they only did big, million dollar investments.\\nAnd there were angels, who did smaller investments, but these were\\nindividuals who were usually focused on other things and made\\ninvestments on the side. And neither of them helped founders enough\\nin the beginning. We knew how helpless founders were in some respects,\\nbecause we remembered how helpless we\\'d been. For example, one thing\\nJulian had done for us that seemed to us like magic was to get us\\nset up as a company. We were fine writing fairly difficult software,\\nbut actually getting incorporated, with bylaws and stock and all\\nthat stuff, how on earth did you do that? Our plan was not only to\\nmake seed investments, but to do for startups everything Julian had\\ndone for us.YC was not organized as a fund. It was cheap enough to run that we\\nfunded it with our own money. That went right by 99% of readers,\\nbut professional investors are thinking \"Wow, that means they got\\nall the returns.\" But once again, this was not due to any particular\\ninsight on our part. We didn\\'t know how VC firms were organized.\\nIt never occurred to us to try to raise a fund, and if it had, we\\nwouldn\\'t have known where to start.\\n[14]The most distinctive thing about YC is the batch model: to fund a\\nbunch of startups all at once, twice a year, and then to spend three\\nmonths focusing intensively on trying to help them. That part we\\ndiscovered by accident, not merely implicitly but explicitly due\\nto our ignorance about investing. We needed to get experience as\\ninvestors. What better way, we thought, than to fund a whole bunch\\nof startups at once? We knew undergrads got temporary jobs at tech\\ncompanies during the summer. Why not organize a summer program where\\nthey\\'d start startups instead? We wouldn\\'t feel guilty for being\\nin a sense fake investors, because they would in a similar sense\\nbe fake founders. So while we probably wouldn\\'t make much money out\\nof it, we\\'d at least get to practice being investors on them, and\\nthey for their part would probably have a more interesting summer\\nthan they would working at Microsoft.We\\'d use the building I owned in Cambridge as our headquarters.\\nWe\\'d all have dinner there once a week \\x97 on tuesdays, since I was\\nalready cooking for the thursday diners on thursdays \\x97 and after\\ndinner we\\'d bring in experts on startups to give talks.We knew undergrads were deciding then about summer jobs, so in a\\nmatter of days we cooked up something we called the Summer Founders\\nProgram, and I posted an \\nannouncement \\non my site, inviting undergrads\\nto apply. I had never imagined that writing essays would be a way\\nto get \"deal flow,\" as investors call it, but it turned out to be\\nthe perfect source.\\n[15]\\nWe got 225 applications for the Summer\\nFounders Program, and we were surprised to find that a lot of them\\nwere from people who\\'d already graduated, or were about to that\\nspring. Already this SFP thing was starting to feel more serious\\nthan we\\'d intended.We invited about 20 of the 225 groups to interview in person, and\\nfrom those we picked 8 to fund. They were an impressive group. That\\nfirst batch included reddit, Justin Kan and Emmett Shear, who went\\non to found Twitch, Aaron Swartz, who had already helped write the\\nRSS spec and would a few years later become a martyr for open access,\\nand Sam Altman, who would later become the second president of YC.\\nI don\\'t think it was entirely luck that the first batch was so good.\\nYou had to be pretty bold to sign up for a weird thing like the\\nSummer Founders Program instead of a summer job at a legit place\\nlike Microsoft or Goldman Sachs.The deal for startups was based on a combination of the deal we did\\nwith Julian ($10k for 10%) and what Robert said MIT grad students\\ngot for the summer ($6k). We invested $6k per founder, which in the\\ntypical two-founder case was $12k, in return for 6%. That had to\\nbe fair, because it was twice as good as the deal we ourselves had\\ntaken. Plus that first summer, which was really hot, Jessica brought\\nthe founders free air conditioners.\\n[16]Fairly quickly I realized that we had stumbled upon the way to scale\\nstartup funding. Funding startups in batches was more convenient\\nfor us, because it meant we could do things for a lot of startups\\nat once, but being part of a batch was better for the startups too.\\nIt solved one of the biggest problems faced by founders: the\\nisolation. Now you not only had colleagues, but colleagues who\\nunderstood the problems you were facing and could tell you how they\\nwere solving them.As YC grew, we started to notice other advantages of scale. The\\nalumni became a tight community, dedicated to helping one another,\\nand especially the current batch, whose shoes they remembered being\\nin. We also noticed that the startups were becoming one another\\'s\\ncustomers. We used to refer jokingly to the \"YC GDP,\" but as YC\\ngrows this becomes less and less of a joke. Now lots of startups\\nget their initial set of customers almost entirely from among their\\nbatchmates.I had not originally intended YC to be a full-time job. I was going\\nto do three things: hack, write essays, and work on YC. As YC grew,\\nand I grew more excited about it, it started to take up a lot more\\nthan a third of my attention. But for the first few years I was\\nstill able to work on other things.In the summer of 2006, Robert and I started working on a new version\\nof Arc. This one was reasonably fast, because it was compiled into\\nScheme. To test this new Arc, I wrote Hacker News in it. It was\\noriginally meant to be a news aggregator for startup founders and\\nwas called Startup News, but after a few months I got tired of\\nreading about nothing but startups. Plus it wasn\\'t startup founders\\nwe wanted to reach. It was future startup founders. So I changed\\nthe name to Hacker News and the topic to whatever engaged one\\'s\\nintellectual curiosity.HN was no doubt good for YC, but it was also by far the biggest\\nsource of stress for me. If all I\\'d had to do was select and help\\nfounders, life would have been so easy. And that implies that HN\\nwas a mistake. Surely the biggest source of stress in one\\'s work\\nshould at least be something close to the core of the work. Whereas\\nI was like someone who was in pain while running a marathon not\\nfrom the exertion of running, but because I had a blister from an\\nill-fitting shoe. When I was dealing with some urgent problem during\\nYC, there was about a 60% chance it had to do with HN, and a 40%\\nchance it had do with everything else combined.\\n[17]As well as HN, I wrote all of YC\\'s internal software in Arc. But\\nwhile I continued to work a good deal in Arc, I gradually stopped\\nworking on Arc, partly because I didn\\'t have time to, and partly\\nbecause it was a lot less attractive to mess around with the language\\nnow that we had all this infrastructure depending on it. So now my\\nthree projects were reduced to two: writing essays and working on\\nYC.YC was different from other kinds of work I\\'ve done. Instead of\\ndeciding for myself what to work on, the problems came to me. Every\\n6 months there was a new batch of startups, and their problems,\\nwhatever they were, became our problems. It was very engaging work,\\nbecause their problems were quite varied, and the good founders\\nwere very effective. If you were trying to learn the most you could\\nabout startups in the shortest possible time, you couldn\\'t have\\npicked a better way to do it.There were parts of the job I didn\\'t like. Disputes between cofounders,\\nfiguring out when people were lying to us, fighting with people who\\nmaltreated the startups, and so on. But I worked hard even at the\\nparts I didn\\'t like. I was haunted by something Kevin Hale once\\nsaid about companies: \"No one works harder than the boss.\" He meant\\nit both descriptively and prescriptively, and it was the second\\npart that scared me. I wanted YC to be good, so if how hard I worked\\nset the upper bound on how hard everyone else worked, I\\'d better\\nwork very hard.One day in 2010, when he was visiting California for interviews,\\nRobert Morris did something astonishing: he offered me unsolicited\\nadvice. I can only remember him doing that once before. One day at\\nViaweb, when I was bent over double from a kidney stone, he suggested\\nthat it would be a good idea for him to take me to the hospital.\\nThat was what it took for Rtm to offer unsolicited advice. So I\\nremember his exact words very clearly. \"You know,\" he said, \"you\\nshould make sure Y Combinator isn\\'t the last cool thing you do.\"At the time I didn\\'t understand what he meant, but gradually it\\ndawned on me that he was saying I should quit. This seemed strange\\nadvice, because YC was doing great. But if there was one thing rarer\\nthan Rtm offering advice, it was Rtm being wrong. So this set me\\nthinking. It was true that on my current trajectory, YC would be\\nthe last thing I did, because it was only taking up more of my\\nattention. It had already eaten Arc, and was in the process of\\neating essays too. Either YC was my life\\'s work or I\\'d have to leave\\neventually. And it wasn\\'t, so I would.In the summer of 2012 my mother had a stroke, and the cause turned\\nout to be a blood clot caused by colon cancer. The stroke destroyed\\nher balance, and she was put in a nursing home, but she really\\nwanted to get out of it and back to her house, and my sister and I\\nwere determined to help her do it. I used to fly up to Oregon to\\nvisit her regularly, and I had a lot of time to think on those\\nflights. On one of them I realized I was ready to hand YC over to\\nsomeone else.I asked Jessica if she wanted to be president, but she didn\\'t, so\\nwe decided we\\'d try to recruit Sam Altman. We talked to Robert and\\nTrevor and we agreed to make it a complete changing of the guard.\\nUp till that point YC had been controlled by the original LLC we\\nfour had started. But we wanted YC to last for a long time, and to\\ndo that it couldn\\'t be controlled by the founders. So if Sam said\\nyes, we\\'d let him reorganize YC. Robert and I would retire, and\\nJessica and Trevor would become ordinary partners.When we asked Sam if he wanted to be president of YC, initially he\\nsaid no. He wanted to start a startup to make nuclear reactors.\\nBut I kept at it, and in October 2013 he finally agreed. We decided\\nhe\\'d take over starting with the winter 2014 batch. For the rest\\nof 2013 I left running YC more and more to Sam, partly so he could\\nlearn the job, and partly because I was focused on my mother, whose\\ncancer had returned.She died on January 15, 2014. We knew this was coming, but it was\\nstill hard when it did.I kept working on YC till March, to help get that batch of startups\\nthrough Demo Day, then I checked out pretty completely. (I still\\ntalk to alumni and to new startups working on things I\\'m interested\\nin, but that only takes a few hours a week.)What should I do next? Rtm\\'s advice hadn\\'t included anything about\\nthat. I wanted to do something completely different, so I decided\\nI\\'d paint. I wanted to see how good I could get if I really focused\\non it. So the day after I stopped working on YC, I started painting.\\nI was rusty and it took a while to get back into shape, but it was\\nat least completely engaging.\\n[18]I spent most of the rest of 2014 painting. I\\'d never been able to\\nwork so uninterruptedly before, and I got to be better than I had\\nbeen. Not good enough, but better. Then in November, right in the\\nmiddle of a painting, I ran out of steam. Up till that point I\\'d\\nalways been curious to see how the painting I was working on would\\nturn out, but suddenly finishing this one seemed like a chore. So\\nI stopped working on it and cleaned my brushes and haven\\'t painted\\nsince. So far anyway.I realize that sounds rather wimpy. But attention is a zero sum\\ngame. If you can choose what to work on, and you choose a project\\nthat\\'s not the best one (or at least a good one) for you, then it\\'s\\ngetting in the way of another project that is. And at 50 there was\\nsome opportunity cost to screwing around.I started writing essays again, and wrote a bunch of new ones over\\nthe next few months. I even wrote a couple that \\nweren\\'t about\\nstartups. Then in March 2015 I started working on Lisp again.The distinctive thing about Lisp is that its core is a language\\ndefined by writing an interpreter in itself. It wasn\\'t originally\\nintended as a programming language in the ordinary sense. It was\\nmeant to be a formal model of computation, an alternative to the\\nTuring machine. If you want to write an interpreter for a language\\nin itself, what\\'s the minimum set of predefined operators you need?\\nThe Lisp that John McCarthy invented, or more accurately discovered,\\nis an answer to that question.\\n[19]McCarthy didn\\'t realize this Lisp could even be used to program\\ncomputers till his grad student Steve Russell suggested it. Russell\\ntranslated McCarthy\\'s interpreter into IBM 704 machine language,\\nand from that point Lisp started also to be a programming language\\nin the ordinary sense. But its origins as a model of computation\\ngave it a power and elegance that other languages couldn\\'t match.\\nIt was this that attracted me in college, though I didn\\'t understand\\nwhy at the time.McCarthy\\'s 1960 Lisp did nothing more than interpret Lisp expressions.\\nIt was missing a lot of things you\\'d want in a programming language.\\nSo these had to be added, and when they were, they weren\\'t defined\\nusing McCarthy\\'s original axiomatic approach. That wouldn\\'t have\\nbeen feasible at the time. McCarthy tested his interpreter by\\nhand-simulating the execution of programs. But it was already getting\\nclose to the limit of interpreters you could test that way \\x97 indeed,\\nthere was a bug in it that McCarthy had overlooked. To test a more\\ncomplicated interpreter, you\\'d have had to run it, and computers\\nthen weren\\'t powerful enough.Now they are, though. Now you could continue using McCarthy\\'s\\naxiomatic approach till you\\'d defined a complete programming language.\\nAnd as long as every change you made to McCarthy\\'s Lisp was a\\ndiscoveredness-preserving transformation, you could, in principle,\\nend up with a complete language that had this quality. Harder to\\ndo than to talk about, of course, but if it was possible in principle,\\nwhy not try? So I decided to take a shot at it. It took 4 years,\\nfrom March 26, 2015 to October 12, 2019. It was fortunate that I\\nhad a precisely defined goal, or it would have been hard to keep\\nat it for so long.I wrote this new Lisp, called Bel, \\nin itself in Arc. That may sound\\nlike a contradiction, but it\\'s an indication of the sort of trickery\\nI had to engage in to make this work. By means of an egregious\\ncollection of hacks I managed to make something close enough to an\\ninterpreter written in itself that could actually run. Not fast,\\nbut fast enough to test.I had to ban myself from writing essays during most of this time,\\nor I\\'d never have finished. In late 2015 I spent 3 months writing\\nessays, and when I went back to working on Bel I could barely\\nunderstand the code. Not so much because it was badly written as\\nbecause the problem is so convoluted. When you\\'re working on an\\ninterpreter written in itself, it\\'s hard to keep track of what\\'s\\nhappening at what level, and errors can be practically encrypted\\nby the time you get them.So I said no more essays till Bel was done. But I told few people\\nabout Bel while I was working on it. So for years it must have\\nseemed that I was doing nothing, when in fact I was working harder\\nthan I\\'d ever worked on anything. Occasionally after wrestling for\\nhours with some gruesome bug I\\'d check Twitter or HN and see someone\\nasking \"Does Paul Graham still code?\"Working on Bel was hard but satisfying. I worked on it so intensively\\nthat at any given time I had a decent chunk of the code in my head\\nand could write more there. I remember taking the boys to the\\ncoast on a sunny day in 2015 and figuring out how to deal with some\\nproblem involving continuations while I watched them play in the\\ntide pools. It felt like I was doing life right. I remember that\\nbecause I was slightly dismayed at how novel it felt. The good news\\nis that I had more moments like this over the next few years.In the summer of 2016 we moved to England. We wanted our kids to\\nsee what it was like living in another country, and since I was a\\nBritish citizen by birth, that seemed the obvious choice. We only\\nmeant to stay for a year, but we liked it so much that we still\\nlive there. So most of Bel was written in England.In the fall of 2019, Bel was finally finished. Like McCarthy\\'s\\noriginal Lisp, it\\'s a spec rather than an implementation, although\\nlike McCarthy\\'s Lisp it\\'s a spec expressed as code.Now that I could write essays again, I wrote a bunch about topics\\nI\\'d had stacked up. I kept writing essays through 2020, but I also\\nstarted to think about other things I could work on. How should I\\nchoose what to do? Well, how had I chosen what to work on in the\\npast? I wrote an essay for myself to answer that question, and I\\nwas surprised how long and messy the answer turned out to be. If\\nthis surprised me, who\\'d lived it, then I thought perhaps it would\\nbe interesting to other people, and encouraging to those with\\nsimilarly messy lives. So I wrote a more detailed version for others\\nto read, and this is the last sentence of it.\\nNotes[1]\\nMy experience skipped a step in the evolution of computers:\\ntime-sharing machines with interactive OSes. I went straight from\\nbatch processing to microcomputers, which made microcomputers seem\\nall the more exciting.[2]\\nItalian words for abstract concepts can nearly always be\\npredicted from their English cognates (except for occasional traps\\nlike polluzione). It\\'s the everyday words that differ. So if you\\nstring together a lot of abstract concepts with a few simple verbs,\\nyou can make a little Italian go a long way.[3]\\nI lived at Piazza San Felice 4, so my walk to the Accademia\\nwent straight down the spine of old Florence: past the Pitti, across\\nthe bridge, past Orsanmichele, between the Duomo and the Baptistery,\\nand then up Via Ricasoli to Piazza San Marco. I saw Florence at\\nstreet level in every possible condition, from empty dark winter\\nevenings to sweltering summer days when the streets were packed with\\ntourists.[4]\\nYou can of course paint people like still lives if you want\\nto, and they\\'re willing. That sort of portrait is arguably the apex\\nof still life painting, though the long sitting does tend to produce\\npained expressions in the sitters.[5]\\nInterleaf was one of many companies that had smart people and\\nbuilt impressive technology, and yet got crushed by Moore\\'s Law.\\nIn the 1990s the exponential growth in the power of commodity (i.e.\\nIntel) processors rolled up high-end, special-purpose hardware and\\nsoftware companies like a bulldozer.[6]\\nThe signature style seekers at RISD weren\\'t specifically\\nmercenary. In the art world, money and coolness are tightly coupled.\\nAnything expensive comes to be seen as cool, and anything seen as\\ncool will soon become equally expensive.[7]\\nTechnically the apartment wasn\\'t rent-controlled but\\nrent-stabilized, but this is a refinement only New Yorkers would\\nknow or care about. The point is that it was really cheap, less\\nthan half market price.[8]\\nMost software you can launch as soon as it\\'s done. But when\\nthe software is an online store builder and you\\'re hosting the\\nstores, if you don\\'t have any users yet, that fact will be painfully\\nobvious. So before we could launch publicly we had to launch\\nprivately, in the sense of recruiting an initial set of users and\\nmaking sure they had decent-looking stores.[9]\\nWe\\'d had a code editor in Viaweb for users to define their\\nown page styles. They didn\\'t know it, but they were editing Lisp\\nexpressions underneath. But this wasn\\'t an app editor, because the\\ncode ran when the merchants\\' sites were generated, not when shoppers\\nvisited them.[10]\\nThis was the first instance of what is now a familiar experience,\\nand so was what happened next, when I read the comments and found\\nthey were full of angry people. How could I claim that Lisp was\\nbetter than other languages? Weren\\'t they all Turing complete?\\nPeople who see the responses to essays I write sometimes tell me\\nhow sorry they feel for me, but I\\'m not exaggerating when I reply\\nthat it has always been like this, since the very beginning. It\\ncomes with the territory. An essay must tell readers things they\\ndon\\'t already know, and some \\npeople dislike being told such things.[11]\\nPeople put plenty of stuff on the internet in the 90s of\\ncourse, but putting something online is not the same as publishing\\nit online. Publishing online means you treat the online version as\\nthe (or at least a) primary version.[12]\\nThere is a general lesson here that our experience with Y\\nCombinator also teaches: Customs continue to constrain you long\\nafter the restrictions that caused them have disappeared. Customary\\nVC practice had once, like the customs about publishing essays,\\nbeen based on real constraints. Startups had once been much more\\nexpensive to start, and proportionally rare. Now they could be cheap\\nand common, but the VCs\\' customs still reflected the old world,\\njust as customs about writing essays still reflected the constraints\\nof the print era.Which in turn implies that people who are independent-minded (i.e.\\nless influenced by custom) will have an advantage in fields affected\\nby rapid change (where customs are more likely to be obsolete).Here\\'s an interesting point, though: you can\\'t always predict which\\nfields will be affected by rapid change. Obviously software and\\nventure capital will be, but who would have predicted that essay\\nwriting would be?[13]\\nY Combinator was not the original name. At first we were\\ncalled Cambridge Seed. But we didn\\'t want a regional name, in case\\nsomeone copied us in Silicon Valley, so we renamed ourselves after\\none of the coolest tricks in the lambda calculus, the Y combinator.I picked orange as our color partly because it\\'s the warmest, and\\npartly because no VC used it. In 2005 all the VCs used staid colors\\nlike maroon, navy blue, and forest green, because they were trying\\nto appeal to LPs, not founders. The YC logo itself is an inside\\njoke: the Viaweb logo had been a white V on a red circle, so I made\\nthe YC logo a white Y on an orange square.[14]\\nYC did become a fund for a couple years starting in 2009,\\nbecause it was getting so big I could no longer afford to fund it\\npersonally. But after Heroku got bought we had enough money to go\\nback to being self-funded.[15]\\nI\\'ve never liked the term \"deal flow,\" because it implies\\nthat the number of new startups at any given time is fixed. This\\nis not only false, but it\\'s the purpose of YC to falsify it, by\\ncausing startups to be founded that would not otherwise have existed.[16]\\nShe reports that they were all different shapes and sizes,\\nbecause there was a run on air conditioners and she had to get\\nwhatever she could, but that they were all heavier than she could\\ncarry now.[17]\\nAnother problem with HN was a bizarre edge case that occurs\\nwhen you both write essays and run a forum. When you run a forum,\\nyou\\'re assumed to see if not every conversation, at least every\\nconversation involving you. And when you write essays, people post\\nhighly imaginative misinterpretations of them on forums. Individually\\nthese two phenomena are tedious but bearable, but the combination\\nis disastrous. You actually have to respond to the misinterpretations,\\nbecause the assumption that you\\'re present in the conversation means\\nthat not responding to any sufficiently upvoted misinterpretation\\nreads as a tacit admission that it\\'s correct. But that in turn\\nencourages more; anyone who wants to pick a fight with you senses\\nthat now is their chance.[18]\\nThe worst thing about leaving YC was not working with Jessica\\nanymore. We\\'d been working on YC almost the whole time we\\'d known\\neach other, and we\\'d neither tried nor wanted to separate it from\\nour personal lives, so leaving was like pulling up a deeply rooted\\ntree.[19]\\nOne way to get more precise about the concept of invented vs\\ndiscovered is to talk about space aliens. Any sufficiently advanced\\nalien civilization would certainly know about the Pythagorean\\ntheorem, for example. I believe, though with less certainty, that\\nthey would also know about the Lisp in McCarthy\\'s 1960 paper.But if so there\\'s no reason to suppose that this is the limit of\\nthe language that might be known to them. Presumably aliens need\\nnumbers and errors and I/O too. So it seems likely there exists at\\nleast one path out of McCarthy\\'s Lisp along which discoveredness\\nis preserved.Thanks to Trevor Blackwell, John Collison, Patrick Collison, Daniel\\nGackle, Ralph Hazell, Jessica Livingston, Robert Morris, and Harj\\nTaggar for reading drafts of this.', metadata={'source': 'data/PaulGrahamEssays/worked.txt'})]"
      ]
     },
     "execution_count": 60,
     "metadata": {},
     "output_type": "execute_result"
    }
   ],
   "source": [
    "documents"
   ]
  },
  {
   "cell_type": "code",
   "execution_count": 62,
   "metadata": {},
   "outputs": [],
   "source": [
    "text_splitter = RecursiveCharacterTextSplitter(\n",
    "    chunk_size=1000,\n",
    "    chunk_overlap=50\n",
    ")\n",
    "\n",
    "texts = text_splitter.split_documents(documents)\n",
    "\n",
    "embed_model = OpenAIEmbeddings(\n",
    "    model=\"text-embedding-ada-002\",\n",
    "    openai_api_key=os.environ[\"OPENAI_API_KEY\"]\n",
    ")\n",
    "\n",
    "db = FAISS.from_documents(documents=texts, embedding=embed_model)"
   ]
  },
  {
   "cell_type": "code",
   "execution_count": 63,
   "metadata": {},
   "outputs": [],
   "source": [
    "retriever = db.as_retriever()"
   ]
  },
  {
   "cell_type": "code",
   "execution_count": 64,
   "metadata": {},
   "outputs": [
    {
     "data": {
      "text/plain": [
       "VectorStoreRetriever(vectorstore=<langchain.vectorstores.faiss.FAISS object at 0x000001A67AFB6F80>, search_type='similarity', search_kwargs={})"
      ]
     },
     "execution_count": 64,
     "metadata": {},
     "output_type": "execute_result"
    }
   ],
   "source": [
    "retriever"
   ]
  },
  {
   "cell_type": "code",
   "execution_count": 65,
   "metadata": {},
   "outputs": [],
   "source": [
    "docs = retriever.get_relevant_documents(\"what types of things did the author want to build?\")"
   ]
  },
  {
   "cell_type": "code",
   "execution_count": 71,
   "metadata": {},
   "outputs": [
    {
     "name": "stdout",
     "output_type": "stream",
     "text": [
      "standards; what was the point? No one else wanted one either, so\n",
      "off they went. That was what happened to systems work.I wanted not just to build things, but to build things that would\n",
      "last.In this di\n",
      "\n",
      "-----------\n",
      "\n",
      "much of it in grad school.Computer Science is an uneasy alliance between two halves, theory\n",
      "and systems. The theory people prove things, and the systems people\n",
      "build things. I wanted to build things. \n",
      "\n",
      "-----------\n",
      "\n",
      "infrastructure, and the two undergrads worked on the first two\n",
      "services (images and phone calls). But about halfway through the\n",
      "summer I realized I really didn't want to run a company  especially\n",
      "not\n",
      "\n",
      "-----------\n",
      "\n",
      "been generating for galleries. This impressive-sounding thing called\n",
      "an \"internet storefront\" was something we already knew how to build.So in the summer of 1995, after I submitted the camera-ready co\n"
     ]
    }
   ],
   "source": [
    "print(\"\\n\\n-----------\\n\\n\".join([doc.page_content[:200] for doc in docs]))"
   ]
  },
  {
   "cell_type": "code",
   "execution_count": null,
   "metadata": {},
   "outputs": [],
   "source": []
  },
  {
   "cell_type": "code",
   "execution_count": null,
   "metadata": {},
   "outputs": [],
   "source": []
  },
  {
   "cell_type": "code",
   "execution_count": null,
   "metadata": {},
   "outputs": [],
   "source": []
  },
  {
   "cell_type": "code",
   "execution_count": null,
   "metadata": {},
   "outputs": [],
   "source": []
  }
 ],
 "metadata": {
  "kernelspec": {
   "display_name": "ml",
   "language": "python",
   "name": "python3"
  },
  "language_info": {
   "codemirror_mode": {
    "name": "ipython",
    "version": 3
   },
   "file_extension": ".py",
   "mimetype": "text/x-python",
   "name": "python",
   "nbconvert_exporter": "python",
   "pygments_lexer": "ipython3",
   "version": "3.10.9"
  },
  "orig_nbformat": 4
 },
 "nbformat": 4,
 "nbformat_minor": 2
}
